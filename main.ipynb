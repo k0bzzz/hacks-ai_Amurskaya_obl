{
 "cells": [
  {
   "cell_type": "code",
   "execution_count": 1,
   "id": "19644014-2a1f-4fce-a1f3-a1e096ea0246",
   "metadata": {},
   "outputs": [],
   "source": [
    "import pandas as pd\n",
    "import numpy as np\n",
    "from sklearn.model_selection import train_test_split\n",
    "from sklearn.metrics import r2_score, recall_score\n",
    "import lightgbm"
   ]
  },
  {
   "cell_type": "markdown",
   "id": "5b5a9b38-bc32-4ac5-91e9-66d6de92f559",
   "metadata": {},
   "source": [
    "# Импорт и предобработка данных"
   ]
  },
  {
   "cell_type": "code",
   "execution_count": 59,
   "id": "0d7b1319-1122-4b6f-8da9-904fe98d0919",
   "metadata": {},
   "outputs": [],
   "source": [
    "df_train = pd.read_csv('train_dataset_train.csv', index_col=0)\n",
    "df_test = pd.read_csv('test_dataset_test.csv', index_col=0)"
   ]
  },
  {
   "cell_type": "code",
   "execution_count": 60,
   "id": "6b913a24-26f4-4f88-87ad-2ac86383dd59",
   "metadata": {},
   "outputs": [
    {
     "data": {
      "text/plain": [
       "(1080110, 11)"
      ]
     },
     "execution_count": 60,
     "metadata": {},
     "output_type": "execute_result"
    }
   ],
   "source": [
    "outliers = df_train[df_train.time_to_under >= df_train.time_to_under.quantile(0.99)].index\n",
    "df_train = df_train.drop(outliers)\n",
    "df_train.shape"
   ]
  },
  {
   "cell_type": "code",
   "execution_count": 61,
   "id": "12053066-e8ad-4717-b4b2-41706e6b23e8",
   "metadata": {},
   "outputs": [],
   "source": [
    "df_train, df_holdout = train_test_split(df_train, test_size=0.1, random_state=42, stratify=df_train.label)"
   ]
  },
  {
   "cell_type": "code",
   "execution_count": 62,
   "id": "f0919c7e-e446-4895-bf87-eda03d28525c",
   "metadata": {
    "tags": []
   },
   "outputs": [],
   "source": [
    "df_sub = pd.read_csv('subway.csv', index_col=0)\n",
    "df_sub = df_sub[df_sub.optimal_route_delta == 0]\n",
    "df_sub = df_sub.groupby('route_id').agg({'route_dur': min}).reset_index()\n",
    "df_sub['station_id'] = df_sub.route_id.apply(lambda x: x.split('_')[0]).astype(int)\n",
    "df_sub['label'] = df_sub.route_id.apply(lambda x: x.split('_')[1]).astype(int)\n",
    "df_sub.drop('route_id', axis=1, inplace=True)"
   ]
  },
  {
   "cell_type": "code",
   "execution_count": 63,
   "id": "4ce2ee84-0304-4406-adcd-c0201bc99b5d",
   "metadata": {},
   "outputs": [],
   "source": [
    "df_train = df_train.merge(df_sub, how='left', left_on=['station_id', 'label'], right_on=['station_id', 'label'])\n",
    "df_train['workday_len'] = df_train.time_to_under - df_train.route_dur\n",
    "df_train['workday_len'] = df_train.workday_len.where(df_train.workday_len>0, 0)\n",
    "df_train['route_dur'] = df_train.time_to_under - df_train.workday_len"
   ]
  },
  {
   "cell_type": "code",
   "execution_count": 64,
   "id": "51fbe44b-f4b0-4240-b81e-5eafd4b8f49b",
   "metadata": {
    "tags": []
   },
   "outputs": [],
   "source": [
    "# СТАТИСТИКИ ВРЕМЕНИ ПО ТИПУ БИЛЕТОВ\n",
    "time_by_ticket_type_stats = df_train.groupby('ticket_type_nm')\\\n",
    "                               .agg({'time_to_under': [('time_min', min), ('time_max', max), ('time_mean', np.mean), ('time_median', np.median), ('time_std', np.std)],\n",
    "                                     'workday_len': [('workday_min', min), ('workday_max', max), ('workday_mean', np.mean), ('workday_median', np.median), ('workday_std', np.std)],\n",
    "                                     'route_dur': [('route_min', min), ('route_max', max), ('route_mean', np.mean), ('route_median', np.median), ('route_std', np.std)]})\\\n",
    "                               .droplevel(0, axis=1)"
   ]
  },
  {
   "cell_type": "code",
   "execution_count": 65,
   "id": "b8409745-cf62-4ffc-b2d1-c5d73b82e545",
   "metadata": {},
   "outputs": [],
   "source": [
    "def process_date(df):\n",
    "    df.pass_dttm = pd.to_datetime(df.pass_dttm)\n",
    "    df['time_of_day'] = pd.cut(df.pass_dttm.dt.hour, [i for i in range(0, 25)], labels=range(24), right=False)\n",
    "    df['is_dayoff'] = df.pass_dttm.dt.weekday.isin([5,6]).astype(int)\n",
    "    df['weekday'] = df.pass_dttm.dt.weekday\n",
    "    df['time_to_close'] = (25 * 60) - ((df.pass_dttm.dt.hour * 60) + df.pass_dttm.dt.minute)\n",
    "    df['time_from_open'] = ((df.pass_dttm.dt.hour * 60) + df.pass_dttm.dt.minute) - (5.5 * 60)   "
   ]
  },
  {
   "cell_type": "code",
   "execution_count": 66,
   "id": "4b78463d-a375-4e0e-9308-5a18eb68b497",
   "metadata": {},
   "outputs": [],
   "source": [
    "def process_ticket_types(df, ticket_category):\n",
    "    student = df[df.ticket_type_nm.str.contains('студен') | df.ticket_type_nm.str.contains('учащ') | \n",
    "                       df.ticket_type_nm.str.contains('ордин') | df.ticket_type_nm.str.contains('аспир')].ticket_type_nm.unique()\n",
    "    df['is_student'] = (df.ticket_type_nm.isin(student)).astype(int)\n",
    "    suburb = df[df.ticket_type_nm.str.contains('Пригор') | df.ticket_type_nm.str.contains('област')].ticket_type_nm.unique()\n",
    "    df['is_suburb'] = (df.ticket_type_nm.isin(suburb)).astype(int)\n",
    "    df['ticket_type_cat'] = df.ticket_type_nm.map(ticket_category)"
   ]
  },
  {
   "cell_type": "code",
   "execution_count": 67,
   "id": "09fd59e4-6513-42eb-b450-65e149204269",
   "metadata": {
    "tags": []
   },
   "outputs": [],
   "source": [
    "df_train = df_train.merge(time_by_ticket_type_stats, how='left', left_on='ticket_type_nm', right_index=True)\n",
    "df_holdout = df_holdout.merge(time_by_ticket_type_stats, how='left', left_on='ticket_type_nm', right_index=True)\n",
    "df_test = df_test.merge(time_by_ticket_type_stats, how='left', left_on='ticket_type_nm', right_index=True)\n",
    "\n",
    "df_train = df_train.merge(df_sub[df_sub.label == 1009][['route_dur', 'station_id']], how='left', left_on='station_id', right_on='station_id', suffixes=(None, '_to_center'))\n",
    "df_holdout = df_holdout.merge(df_sub[df_sub.label == 1009][['route_dur', 'station_id']], how='left', left_on='station_id', right_on='station_id', suffixes=(None, '_to_center'))\n",
    "df_test = df_test.merge(df_sub[df_sub.label == 1009][['route_dur', 'station_id']], how='left', left_on='station_id', right_on='station_id', suffixes=(None, '_to_center'))"
   ]
  },
  {
   "cell_type": "code",
   "execution_count": 68,
   "id": "3ae66c6b-6796-486a-87a2-6576bb988e36",
   "metadata": {
    "tags": []
   },
   "outputs": [],
   "source": [
    "ticket_category = {k:v for v, k in enumerate(df_train.ticket_type_nm.unique())}\n",
    "\n",
    "for df in [df_train, df_test, df_holdout]:\n",
    "    process_date(df)\n",
    "    process_ticket_types(df, ticket_category)"
   ]
  },
  {
   "cell_type": "markdown",
   "id": "81d95220-289e-492e-b565-466e5d8ff47a",
   "metadata": {},
   "source": [
    "# Train/test split"
   ]
  },
  {
   "cell_type": "code",
   "execution_count": 69,
   "id": "f2c9edb2-95e5-4910-b063-cd2e87f48cfa",
   "metadata": {},
   "outputs": [],
   "source": [
    "X = df_train.drop(['ticket_id', 'entrance_nm', 'station_nm', 'line_nm', 'pass_dttm', 'time_to_under', 'label', 'ticket_type_nm', 'workday_len', 'route_dur'], axis=1)\n",
    "y = df_train[['time_to_under', 'label']]\n",
    "X_test = df_holdout.drop(['ticket_id', 'entrance_nm', 'station_nm', 'line_nm', 'pass_dttm', 'ticket_type_nm','time_to_under', 'label'], axis=1)\n",
    "y_test = df_holdout[['time_to_under', 'label']]\n",
    "df_test_final = df_test.drop(['ticket_id', 'entrance_nm', 'station_nm', 'line_nm', 'pass_dttm', 'ticket_type_nm'], axis=1)"
   ]
  },
  {
   "cell_type": "code",
   "execution_count": 70,
   "id": "2f7aa3d1-80a1-4057-9194-7daf17c0965e",
   "metadata": {},
   "outputs": [],
   "source": [
    "cat_features = ['entrance_id', 'station_id', 'line_id', 'time_of_day', 'is_dayoff', 'weekday', 'is_student', 'is_suburb', 'ticket_type_cat']\n",
    "X[cat_features] = X[cat_features].astype('category')\n",
    "X_test[cat_features] = X_test[cat_features].astype('category')\n",
    "df_test_final[cat_features] = df_test_final[cat_features].astype('category')"
   ]
  },
  {
   "cell_type": "code",
   "execution_count": 33,
   "id": "81f82fd0-7e78-4ac9-ae62-57dd8d9f387a",
   "metadata": {},
   "outputs": [
    {
     "name": "stdout",
     "output_type": "stream",
     "text": [
      "<class 'pandas.core.frame.DataFrame'>\n",
      "Int64Index: 972099 entries, 0 to 972098\n",
      "Data columns (total 27 columns):\n",
      " #   Column               Non-Null Count   Dtype   \n",
      "---  ------               --------------   -----   \n",
      " 0   entrance_id          972099 non-null  category\n",
      " 1   station_id           972099 non-null  category\n",
      " 2   line_id              972099 non-null  category\n",
      " 3   time_of_day          972099 non-null  category\n",
      " 4   is_dayoff            972099 non-null  category\n",
      " 5   weekday              972099 non-null  category\n",
      " 6   time_to_close        972099 non-null  int64   \n",
      " 7   time_from_open       972099 non-null  float64 \n",
      " 8   is_student           972099 non-null  category\n",
      " 9   is_suburb            972099 non-null  category\n",
      " 10  ticket_type_cat      972099 non-null  category\n",
      " 11  time_min             972099 non-null  float64 \n",
      " 12  time_max             972099 non-null  float64 \n",
      " 13  time_mean            972099 non-null  float64 \n",
      " 14  time_median          972099 non-null  float64 \n",
      " 15  time_std             972099 non-null  float64 \n",
      " 16  workday_min          972099 non-null  float64 \n",
      " 17  workday_max          972099 non-null  float64 \n",
      " 18  workday_mean         972099 non-null  float64 \n",
      " 19  workday_median       972099 non-null  float64 \n",
      " 20  workday_std          972099 non-null  float64 \n",
      " 21  route_min            972099 non-null  float64 \n",
      " 22  route_max            972099 non-null  float64 \n",
      " 23  route_mean           972099 non-null  float64 \n",
      " 24  route_median         972099 non-null  float64 \n",
      " 25  route_std            972099 non-null  float64 \n",
      " 26  route_dur_to_center  972099 non-null  float64 \n",
      "dtypes: category(9), float64(17), int64(1)\n",
      "memory usage: 151.1 MB\n"
     ]
    }
   ],
   "source": [
    "X.info()"
   ]
  },
  {
   "cell_type": "code",
   "execution_count": 71,
   "id": "6812cb1e-935f-48da-abf0-ac5ecfe5caac",
   "metadata": {},
   "outputs": [
    {
     "name": "stdout",
     "output_type": "stream",
     "text": [
      "(785535, 27) (196383, 27) (108011, 27)\n"
     ]
    }
   ],
   "source": [
    "print(X_train.shape, X_valid.shape, X_test.shape)"
   ]
  },
  {
   "cell_type": "markdown",
   "id": "ecd3db66-f02f-4216-abb5-7dac3372f5d2",
   "metadata": {
    "tags": []
   },
   "source": [
    "# Regression"
   ]
  },
  {
   "cell_type": "code",
   "execution_count": 75,
   "id": "fc21a179-bc7f-4b6d-a1d1-569396212729",
   "metadata": {
    "collapsed": true,
    "jupyter": {
     "outputs_hidden": true
    },
    "tags": []
   },
   "outputs": [
    {
     "name": "stderr",
     "output_type": "stream",
     "text": [
      "\u001b[32m[I 2022-11-25 09:29:55,635]\u001b[0m A new study created in memory with name: LGBM Regressor\u001b[0m\n"
     ]
    },
    {
     "name": "stdout",
     "output_type": "stream",
     "text": [
      "Training until validation scores don't improve for 50 rounds\n",
      "Early stopping, best iteration is:\n",
      "[14]\ttraining's l2: 21316.1\tvalid_1's l2: 24455.4\n",
      "0.531382488147181\n",
      "Training until validation scores don't improve for 50 rounds\n",
      "Early stopping, best iteration is:\n",
      "[13]\ttraining's l2: 21472.5\tvalid_1's l2: 24469.6\n",
      "0.5320585274323906\n",
      "Training until validation scores don't improve for 50 rounds\n",
      "Early stopping, best iteration is:\n",
      "[13]\ttraining's l2: 21540.7\tvalid_1's l2: 24233.8\n",
      "0.5326836943463218\n",
      "Training until validation scores don't improve for 50 rounds\n",
      "Early stopping, best iteration is:\n",
      "[14]\ttraining's l2: 21313.7\tvalid_1's l2: 24541.9\n",
      "0.5323917914169716\n",
      "Training until validation scores don't improve for 50 rounds\n",
      "Early stopping, best iteration is:\n",
      "[13]\ttraining's l2: 21505.7\tvalid_1's l2: 24161.3\n"
     ]
    },
    {
     "name": "stderr",
     "output_type": "stream",
     "text": [
      "\u001b[32m[I 2022-11-25 09:30:59,332]\u001b[0m Trial 0 finished with value: 0.5321894181608379 and parameters: {'n_estimators': 10000, 'learning_rate': 0.2105458678851937, 'num_leaves': 2000, 'max_depth': 0, 'lambda_l1': 34, 'lambda_l2': 0, 'bagging_fraction': 0.75, 'bagging_freq': 137, 'feature_fraction': 0.85, 'verbosity': -1}. Best is trial 0 with value: 0.5321894181608379.\u001b[0m\n"
     ]
    },
    {
     "name": "stdout",
     "output_type": "stream",
     "text": [
      "0.5324305894613244\n",
      "Training until validation scores don't improve for 50 rounds\n",
      "[200]\ttraining's l2: 24023.1\tvalid_1's l2: 24268.5\n",
      "[400]\ttraining's l2: 23857.6\tvalid_1's l2: 24188.3\n",
      "[600]\ttraining's l2: 23739.4\tvalid_1's l2: 24143.1\n",
      "[800]\ttraining's l2: 23635.8\tvalid_1's l2: 24109.8\n",
      "[1000]\ttraining's l2: 23566.3\tvalid_1's l2: 24093.9\n",
      "[1200]\ttraining's l2: 23498.2\tvalid_1's l2: 24081.8\n",
      "Early stopping, best iteration is:\n",
      "[1253]\ttraining's l2: 23484.6\tvalid_1's l2: 24080.8\n",
      "0.5397136893287374\n",
      "Training until validation scores don't improve for 50 rounds\n",
      "[200]\ttraining's l2: 24026\tvalid_1's l2: 24285.1\n",
      "[400]\ttraining's l2: 23860.2\tvalid_1's l2: 24194.6\n",
      "[600]\ttraining's l2: 23739.4\tvalid_1's l2: 24155.4\n",
      "[800]\ttraining's l2: 23647.9\tvalid_1's l2: 24127.6\n",
      "[1000]\ttraining's l2: 23573.1\tvalid_1's l2: 24107\n",
      "[1200]\ttraining's l2: 23511.1\tvalid_1's l2: 24099.9\n",
      "Early stopping, best iteration is:\n",
      "[1173]\ttraining's l2: 23516.9\tvalid_1's l2: 24099\n",
      "0.5394648069700354\n",
      "Training until validation scores don't improve for 50 rounds\n",
      "[200]\ttraining's l2: 24081.6\tvalid_1's l2: 24055.2\n",
      "[400]\ttraining's l2: 23919.2\tvalid_1's l2: 23977.8\n",
      "[600]\ttraining's l2: 23795.5\tvalid_1's l2: 23927.1\n",
      "[800]\ttraining's l2: 23684.7\tvalid_1's l2: 23891.8\n",
      "[1000]\ttraining's l2: 23611.5\tvalid_1's l2: 23868.4\n",
      "[1200]\ttraining's l2: 23536.8\tvalid_1's l2: 23849\n",
      "Early stopping, best iteration is:\n",
      "[1283]\ttraining's l2: 23509.3\tvalid_1's l2: 23843.6\n",
      "0.5395084888517738\n",
      "Training until validation scores don't improve for 50 rounds\n",
      "[200]\ttraining's l2: 23991\tvalid_1's l2: 24383.1\n",
      "[400]\ttraining's l2: 23822.3\tvalid_1's l2: 24294.4\n",
      "[600]\ttraining's l2: 23701.3\tvalid_1's l2: 24250.4\n",
      "[800]\ttraining's l2: 23602.6\tvalid_1's l2: 24213.8\n",
      "[1000]\ttraining's l2: 23527.9\tvalid_1's l2: 24185.7\n",
      "[1200]\ttraining's l2: 23469.3\tvalid_1's l2: 24174.4\n",
      "[1400]\ttraining's l2: 23407.8\tvalid_1's l2: 24161.4\n",
      "Early stopping, best iteration is:\n",
      "[1526]\ttraining's l2: 23376.4\tvalid_1's l2: 24155.9\n",
      "0.5394855419710962\n",
      "Training until validation scores don't improve for 50 rounds\n",
      "[200]\ttraining's l2: 24104.7\tvalid_1's l2: 23971.9\n",
      "[400]\ttraining's l2: 23941.8\tvalid_1's l2: 23898.1\n",
      "[600]\ttraining's l2: 23812\tvalid_1's l2: 23845.2\n",
      "[800]\ttraining's l2: 23710.1\tvalid_1's l2: 23821.5\n",
      "[1000]\ttraining's l2: 23623.3\tvalid_1's l2: 23801.7\n",
      "[1200]\ttraining's l2: 23564.2\tvalid_1's l2: 23791.4\n",
      "[1400]\ttraining's l2: 23503.2\tvalid_1's l2: 23782.1\n",
      "Early stopping, best iteration is:\n",
      "[1392]\ttraining's l2: 23504.4\tvalid_1's l2: 23781.1\n"
     ]
    },
    {
     "name": "stderr",
     "output_type": "stream",
     "text": [
      "\u001b[32m[I 2022-11-25 09:34:15,529]\u001b[0m Trial 1 finished with value: 0.5395598727221469 and parameters: {'n_estimators': 10000, 'learning_rate': 0.09103565431295048, 'num_leaves': 2900, 'max_depth': 3, 'lambda_l1': 96, 'lambda_l2': 8, 'bagging_fraction': 0.9000000000000001, 'bagging_freq': 116, 'feature_fraction': 0.85, 'verbosity': -1}. Best is trial 1 with value: 0.5395598727221469.\u001b[0m\n"
     ]
    },
    {
     "name": "stdout",
     "output_type": "stream",
     "text": [
      "0.5396268364890913\n",
      "Training until validation scores don't improve for 50 rounds\n",
      "[200]\ttraining's l2: 24180\tvalid_1's l2: 24398.7\n",
      "[400]\ttraining's l2: 24022.6\tvalid_1's l2: 24320.7\n",
      "[600]\ttraining's l2: 23922.9\tvalid_1's l2: 24270.7\n",
      "Early stopping, best iteration is:\n",
      "[749]\ttraining's l2: 23864.8\tvalid_1's l2: 24250\n",
      "0.536495380327076\n",
      "Training until validation scores don't improve for 50 rounds\n",
      "[200]\ttraining's l2: 24148.3\tvalid_1's l2: 24384.5\n",
      "[400]\ttraining's l2: 24014\tvalid_1's l2: 24322.2\n",
      "[600]\ttraining's l2: 23905.3\tvalid_1's l2: 24283.1\n",
      "Early stopping, best iteration is:\n",
      "[724]\ttraining's l2: 23851.1\tvalid_1's l2: 24263.2\n",
      "0.536022549156024\n",
      "Training until validation scores don't improve for 50 rounds\n",
      "[200]\ttraining's l2: 24248.3\tvalid_1's l2: 24188.3\n",
      "[400]\ttraining's l2: 24094.7\tvalid_1's l2: 24112.2\n",
      "[600]\ttraining's l2: 23985.3\tvalid_1's l2: 24059.7\n",
      "Early stopping, best iteration is:\n",
      "[666]\ttraining's l2: 23960.4\tvalid_1's l2: 24042.3\n",
      "0.5353474148404317\n",
      "Training until validation scores don't improve for 50 rounds\n",
      "[200]\ttraining's l2: 24160.7\tvalid_1's l2: 24533.5\n",
      "[400]\ttraining's l2: 24001\tvalid_1's l2: 24443.3\n",
      "[600]\ttraining's l2: 23903.3\tvalid_1's l2: 24407.6\n",
      "Early stopping, best iteration is:\n",
      "[667]\ttraining's l2: 23872.6\tvalid_1's l2: 24392.4\n",
      "0.5353248787968328\n",
      "Training until validation scores don't improve for 50 rounds\n",
      "[200]\ttraining's l2: 24265.6\tvalid_1's l2: 24103.4\n",
      "[400]\ttraining's l2: 24112.7\tvalid_1's l2: 24023.1\n",
      "[600]\ttraining's l2: 24006.9\tvalid_1's l2: 23986.4\n",
      "Early stopping, best iteration is:\n",
      "[705]\ttraining's l2: 23958.9\tvalid_1's l2: 23966.2\n"
     ]
    },
    {
     "name": "stderr",
     "output_type": "stream",
     "text": [
      "\u001b[32m[I 2022-11-25 09:35:25,770]\u001b[0m Trial 2 finished with value: 0.5357499537609463 and parameters: {'n_estimators': 10000, 'learning_rate': 0.2715870011944763, 'num_leaves': 2440, 'max_depth': 2, 'lambda_l1': 72, 'lambda_l2': 68, 'bagging_fraction': 0.55, 'bagging_freq': 60, 'feature_fraction': 0.95, 'verbosity': -1}. Best is trial 1 with value: 0.5395598727221469.\u001b[0m\n"
     ]
    },
    {
     "name": "stdout",
     "output_type": "stream",
     "text": [
      "0.5355595456843666\n",
      "Training until validation scores don't improve for 50 rounds\n",
      "[200]\ttraining's l2: 23362.6\tvalid_1's l2: 24080.7\n",
      "Early stopping, best iteration is:\n",
      "[289]\ttraining's l2: 23184.4\tvalid_1's l2: 24072.3\n",
      "0.5393130032446642\n",
      "Training until validation scores don't improve for 50 rounds\n",
      "[200]\ttraining's l2: 23369.8\tvalid_1's l2: 24106.6\n",
      "Early stopping, best iteration is:\n",
      "[224]\ttraining's l2: 23305.1\tvalid_1's l2: 24095.7\n",
      "0.5386207766501931\n",
      "Training until validation scores don't improve for 50 rounds\n",
      "[200]\ttraining's l2: 23443\tvalid_1's l2: 23855\n",
      "Early stopping, best iteration is:\n",
      "[271]\ttraining's l2: 23292.8\tvalid_1's l2: 23839.4\n",
      "0.5392432662708135\n",
      "Training until validation scores don't improve for 50 rounds\n",
      "[200]\ttraining's l2: 23362.2\tvalid_1's l2: 24176.5\n",
      "Early stopping, best iteration is:\n",
      "[256]\ttraining's l2: 23241.5\tvalid_1's l2: 24167.5\n",
      "0.5392776051579693\n",
      "Training until validation scores don't improve for 50 rounds\n",
      "[200]\ttraining's l2: 23449.6\tvalid_1's l2: 23809.7\n",
      "[400]\ttraining's l2: 23110.1\tvalid_1's l2: 23781.7\n",
      "Early stopping, best iteration is:\n",
      "[407]\ttraining's l2: 23100\tvalid_1's l2: 23779.5\n"
     ]
    },
    {
     "name": "stderr",
     "output_type": "stream",
     "text": [
      "\u001b[32m[I 2022-11-25 09:36:31,481]\u001b[0m Trial 3 finished with value: 0.5391456782655071 and parameters: {'n_estimators': 10000, 'learning_rate': 0.275921867820335, 'num_leaves': 2660, 'max_depth': 4, 'lambda_l1': 38, 'lambda_l2': 0, 'bagging_fraction': 0.9000000000000001, 'bagging_freq': 56, 'feature_fraction': 0.8, 'verbosity': -1}. Best is trial 1 with value: 0.5395598727221469.\u001b[0m\n"
     ]
    },
    {
     "name": "stdout",
     "output_type": "stream",
     "text": [
      "0.5392737400038949\n",
      "Training until validation scores don't improve for 50 rounds\n",
      "Early stopping, best iteration is:\n",
      "[33]\ttraining's l2: 21136.2\tvalid_1's l2: 24086.2\n",
      "0.5383106841852008\n",
      "Training until validation scores don't improve for 50 rounds\n",
      "Early stopping, best iteration is:\n",
      "[34]\ttraining's l2: 21067.8\tvalid_1's l2: 24121.5\n",
      "0.5384648278073685\n",
      "Training until validation scores don't improve for 50 rounds\n",
      "Early stopping, best iteration is:\n",
      "[34]\ttraining's l2: 21141.3\tvalid_1's l2: 23874.9\n",
      "0.5387716972896608\n",
      "Training until validation scores don't improve for 50 rounds\n",
      "Early stopping, best iteration is:\n",
      "[33]\ttraining's l2: 21112.7\tvalid_1's l2: 24204.7\n",
      "0.5384054485143732\n",
      "Training until validation scores don't improve for 50 rounds\n",
      "Early stopping, best iteration is:\n",
      "[33]\ttraining's l2: 21177.9\tvalid_1's l2: 23839\n"
     ]
    },
    {
     "name": "stderr",
     "output_type": "stream",
     "text": [
      "\u001b[32m[I 2022-11-25 09:38:22,045]\u001b[0m Trial 4 finished with value: 0.5385884853459205 and parameters: {'n_estimators': 10000, 'learning_rate': 0.11060008785547483, 'num_leaves': 1960, 'max_depth': 0, 'lambda_l1': 50, 'lambda_l2': 26, 'bagging_fraction': 0.8500000000000001, 'bagging_freq': 8, 'feature_fraction': 0.75, 'verbosity': -1}. Best is trial 1 with value: 0.5395598727221469.\u001b[0m\n"
     ]
    },
    {
     "name": "stdout",
     "output_type": "stream",
     "text": [
      "0.5389897689329994\n",
      "Training until validation scores don't improve for 50 rounds\n",
      "Early stopping, best iteration is:\n",
      "[36]\ttraining's l2: 21528.8\tvalid_1's l2: 24130.1\n",
      "0.5375264165825244\n",
      "Training until validation scores don't improve for 50 rounds\n",
      "Early stopping, best iteration is:\n",
      "[19]\ttraining's l2: 22073.4\tvalid_1's l2: 24171.6\n",
      "0.53751907807537\n",
      "Training until validation scores don't improve for 50 rounds\n",
      "Early stopping, best iteration is:\n",
      "[19]\ttraining's l2: 22144.1\tvalid_1's l2: 23973.9\n",
      "0.5375879197569546\n",
      "Training until validation scores don't improve for 50 rounds\n",
      "Early stopping, best iteration is:\n",
      "[33]\ttraining's l2: 21672.5\tvalid_1's l2: 24237.4\n",
      "0.537068936941379\n",
      "Training until validation scores don't improve for 50 rounds\n",
      "Early stopping, best iteration is:\n",
      "[19]\ttraining's l2: 22202.3\tvalid_1's l2: 23880.8\n"
     ]
    },
    {
     "name": "stderr",
     "output_type": "stream",
     "text": [
      "\u001b[32m[I 2022-11-25 09:39:14,043]\u001b[0m Trial 5 finished with value: 0.537474598209258 and parameters: {'n_estimators': 10000, 'learning_rate': 0.24014118140192192, 'num_leaves': 1540, 'max_depth': 11, 'lambda_l1': 86, 'lambda_l2': 8, 'bagging_fraction': 0.8500000000000001, 'bagging_freq': 34, 'feature_fraction': 0.9, 'verbosity': -1}. Best is trial 1 with value: 0.5395598727221469.\u001b[0m\n"
     ]
    },
    {
     "name": "stdout",
     "output_type": "stream",
     "text": [
      "0.5376706396900621\n",
      "Training until validation scores don't improve for 50 rounds\n",
      "Early stopping, best iteration is:\n",
      "[133]\ttraining's l2: 22527.4\tvalid_1's l2: 24268.7\n",
      "0.5354812885902165\n",
      "Training until validation scores don't improve for 50 rounds\n",
      "Early stopping, best iteration is:\n",
      "[68]\ttraining's l2: 22972.7\tvalid_1's l2: 24302.2\n",
      "0.53432840811318\n",
      "Training until validation scores don't improve for 50 rounds\n",
      "Early stopping, best iteration is:\n",
      "[135]\ttraining's l2: 22616.7\tvalid_1's l2: 24096.7\n",
      "0.5354135326727181\n",
      "Training until validation scores don't improve for 50 rounds\n",
      "Early stopping, best iteration is:\n",
      "[133]\ttraining's l2: 22518.4\tvalid_1's l2: 24418.3\n",
      "0.5353510066386258\n",
      "Training until validation scores don't improve for 50 rounds\n",
      "Early stopping, best iteration is:\n",
      "[98]\ttraining's l2: 22850.4\tvalid_1's l2: 23987.7\n"
     ]
    },
    {
     "name": "stderr",
     "output_type": "stream",
     "text": [
      "\u001b[32m[I 2022-11-25 09:40:28,847]\u001b[0m Trial 6 finished with value: 0.5351375680832853 and parameters: {'n_estimators': 10000, 'learning_rate': 0.07354769846609892, 'num_leaves': 1280, 'max_depth': 11, 'lambda_l1': 10, 'lambda_l2': 22, 'bagging_fraction': 0.35000000000000003, 'bagging_freq': 31, 'feature_fraction': 0.95, 'verbosity': -1}. Best is trial 1 with value: 0.5395598727221469.\u001b[0m\n"
     ]
    },
    {
     "name": "stdout",
     "output_type": "stream",
     "text": [
      "0.535113604401686\n",
      "Training until validation scores don't improve for 50 rounds\n",
      "[200]\ttraining's l2: 23493.7\tvalid_1's l2: 24070.6\n",
      "[400]\ttraining's l2: 23189.5\tvalid_1's l2: 24034.9\n",
      "Early stopping, best iteration is:\n",
      "[394]\ttraining's l2: 23199.1\tvalid_1's l2: 24032.9\n",
      "0.5403408638915679\n",
      "Training until validation scores don't improve for 50 rounds\n",
      "[200]\ttraining's l2: 23507.3\tvalid_1's l2: 24081.9\n",
      "[400]\ttraining's l2: 23223.3\tvalid_1's l2: 24053\n",
      "Early stopping, best iteration is:\n",
      "[504]\ttraining's l2: 23109.2\tvalid_1's l2: 24046.9\n",
      "0.5402430675617147\n",
      "Training until validation scores don't improve for 50 rounds\n",
      "[200]\ttraining's l2: 23546.6\tvalid_1's l2: 23856.3\n",
      "[400]\ttraining's l2: 23258\tvalid_1's l2: 23820\n",
      "Early stopping, best iteration is:\n",
      "[445]\ttraining's l2: 23200.4\tvalid_1's l2: 23813.3\n",
      "0.5401109142646069\n",
      "Training until validation scores don't improve for 50 rounds\n",
      "[200]\ttraining's l2: 23479.9\tvalid_1's l2: 24186.9\n",
      "[400]\ttraining's l2: 23177.3\tvalid_1's l2: 24140.1\n",
      "Early stopping, best iteration is:\n",
      "[434]\ttraining's l2: 23132.1\tvalid_1's l2: 24138.4\n",
      "0.5397369001937813\n",
      "Training until validation scores don't improve for 50 rounds\n",
      "[200]\ttraining's l2: 23548.5\tvalid_1's l2: 23785.6\n",
      "[400]\ttraining's l2: 23240.9\tvalid_1's l2: 23748.6\n",
      "Early stopping, best iteration is:\n",
      "[444]\ttraining's l2: 23190\tvalid_1's l2: 23745.8\n"
     ]
    },
    {
     "name": "stderr",
     "output_type": "stream",
     "text": [
      "\u001b[32m[I 2022-11-25 09:42:02,181]\u001b[0m Trial 7 finished with value: 0.5401218277851854 and parameters: {'n_estimators': 10000, 'learning_rate': 0.17992147980232254, 'num_leaves': 2900, 'max_depth': 4, 'lambda_l1': 82, 'lambda_l2': 12, 'bagging_fraction': 0.9000000000000001, 'bagging_freq': 109, 'feature_fraction': 0.9, 'verbosity': -1}. Best is trial 7 with value: 0.5401218277851854.\u001b[0m\n"
     ]
    },
    {
     "name": "stdout",
     "output_type": "stream",
     "text": [
      "0.540177393014256\n",
      "Training until validation scores don't improve for 50 rounds\n",
      "[200]\ttraining's l2: 24362.9\tvalid_1's l2: 24530.9\n",
      "[400]\ttraining's l2: 24316.7\tvalid_1's l2: 24508.6\n",
      "[600]\ttraining's l2: 24275.2\tvalid_1's l2: 24492.7\n",
      "[800]\ttraining's l2: 24227.6\tvalid_1's l2: 24465.7\n",
      "[1000]\ttraining's l2: 24169.3\tvalid_1's l2: 24430.4\n",
      "[1200]\ttraining's l2: 24134.7\tvalid_1's l2: 24417.2\n",
      "Early stopping, best iteration is:\n",
      "[1180]\ttraining's l2: 24136.5\tvalid_1's l2: 24411.9\n",
      "0.5332511317677563\n",
      "Training until validation scores don't improve for 50 rounds\n",
      "[200]\ttraining's l2: 24369.3\tvalid_1's l2: 24563.7\n",
      "[400]\ttraining's l2: 24321.2\tvalid_1's l2: 24539.4\n",
      "[600]\ttraining's l2: 24274.5\tvalid_1's l2: 24517.2\n",
      "[800]\ttraining's l2: 24226.9\tvalid_1's l2: 24490.1\n",
      "[1000]\ttraining's l2: 24187.6\tvalid_1's l2: 24476.7\n",
      "Early stopping, best iteration is:\n",
      "[970]\ttraining's l2: 24192.4\tvalid_1's l2: 24475\n",
      "0.5325053686730132\n",
      "Training until validation scores don't improve for 50 rounds\n",
      "[200]\ttraining's l2: 24437.9\tvalid_1's l2: 24330.1\n",
      "[400]\ttraining's l2: 24390.4\tvalid_1's l2: 24308.8\n",
      "[600]\ttraining's l2: 24342.4\tvalid_1's l2: 24286.7\n",
      "[800]\ttraining's l2: 24289.9\tvalid_1's l2: 24253.2\n",
      "[1000]\ttraining's l2: 24246.2\tvalid_1's l2: 24233.4\n",
      "[1200]\ttraining's l2: 24212.6\tvalid_1's l2: 24221.5\n",
      "Early stopping, best iteration is:\n",
      "[1175]\ttraining's l2: 24215.2\tvalid_1's l2: 24217.2\n",
      "0.5325527972208381\n",
      "Training until validation scores don't improve for 50 rounds\n",
      "[200]\ttraining's l2: 24373.2\tvalid_1's l2: 24690.3\n",
      "[400]\ttraining's l2: 24326.1\tvalid_1's l2: 24665.7\n",
      "[600]\ttraining's l2: 24287.4\tvalid_1's l2: 24647\n",
      "[800]\ttraining's l2: 24233.1\tvalid_1's l2: 24615\n",
      "Early stopping, best iteration is:\n",
      "[901]\ttraining's l2: 24214.5\tvalid_1's l2: 24600.2\n",
      "0.5317688340025042\n",
      "Training until validation scores don't improve for 50 rounds\n",
      "[200]\ttraining's l2: 24454.8\tvalid_1's l2: 24238.5\n",
      "[400]\ttraining's l2: 24408.7\tvalid_1's l2: 24219.5\n",
      "[600]\ttraining's l2: 24363.6\tvalid_1's l2: 24194.6\n",
      "[800]\ttraining's l2: 24321.1\tvalid_1's l2: 24173.6\n",
      "[1000]\ttraining's l2: 24274.2\tvalid_1's l2: 24148.7\n",
      "[1200]\ttraining's l2: 24239.8\tvalid_1's l2: 24134.3\n",
      "Early stopping, best iteration is:\n",
      "[1247]\ttraining's l2: 24232.3\tvalid_1's l2: 24128.6\n"
     ]
    },
    {
     "name": "stderr",
     "output_type": "stream",
     "text": [
      "\u001b[32m[I 2022-11-25 09:43:49,866]\u001b[0m Trial 8 finished with value: 0.5325927259387326 and parameters: {'n_estimators': 10000, 'learning_rate': 0.1979612119813226, 'num_leaves': 2580, 'max_depth': 2, 'lambda_l1': 24, 'lambda_l2': 48, 'bagging_fraction': 0.45, 'bagging_freq': 3, 'feature_fraction': 0.8, 'verbosity': -1}. Best is trial 7 with value: 0.5401218277851854.\u001b[0m\n"
     ]
    },
    {
     "name": "stdout",
     "output_type": "stream",
     "text": [
      "0.5328854980295517\n",
      "Training until validation scores don't improve for 50 rounds\n",
      "[200]\ttraining's l2: 24964\tvalid_1's l2: 25088.4\n",
      "Early stopping, best iteration is:\n",
      "[345]\ttraining's l2: 24955.1\tvalid_1's l2: 25080.3\n",
      "0.5203506463980798\n",
      "Training until validation scores don't improve for 50 rounds\n",
      "[200]\ttraining's l2: 24960.2\tvalid_1's l2: 25117.7\n",
      "Early stopping, best iteration is:\n",
      "[293]\ttraining's l2: 24952.9\tvalid_1's l2: 25109\n",
      "0.5202626558087888\n",
      "Training until validation scores don't improve for 50 rounds\n",
      "[200]\ttraining's l2: 25021.3\tvalid_1's l2: 24888.4\n",
      "Early stopping, best iteration is:\n",
      "[349]\ttraining's l2: 25008.3\tvalid_1's l2: 24878.2\n",
      "0.5203850928037846\n",
      "Training until validation scores don't improve for 50 rounds\n",
      "[200]\ttraining's l2: 24925.3\tvalid_1's l2: 25218\n",
      "Early stopping, best iteration is:\n",
      "[290]\ttraining's l2: 24918.3\tvalid_1's l2: 25210.9\n",
      "0.5202095705550898\n",
      "Training until validation scores don't improve for 50 rounds\n",
      "[200]\ttraining's l2: 25042.5\tvalid_1's l2: 24771.4\n",
      "Early stopping, best iteration is:\n",
      "[237]\ttraining's l2: 25038\tvalid_1's l2: 24769.8\n"
     ]
    },
    {
     "name": "stderr",
     "output_type": "stream",
     "text": [
      "\u001b[32m[I 2022-11-25 09:44:23,176]\u001b[0m Trial 9 finished with value: 0.5202724053434241 and parameters: {'n_estimators': 10000, 'learning_rate': 0.19084664679362462, 'num_leaves': 580, 'max_depth': 1, 'lambda_l1': 98, 'lambda_l2': 90, 'bagging_fraction': 0.65, 'bagging_freq': 29, 'feature_fraction': 1.0, 'verbosity': -1}. Best is trial 7 with value: 0.5401218277851854.\u001b[0m\n"
     ]
    },
    {
     "name": "stdout",
     "output_type": "stream",
     "text": [
      "0.5201540611513776\n",
      "Training until validation scores don't improve for 50 rounds\n",
      "Early stopping, best iteration is:\n",
      "[30]\ttraining's l2: 24004.6\tvalid_1's l2: 24476\n",
      "0.5318344694464734\n",
      "Training until validation scores don't improve for 50 rounds\n",
      "Early stopping, best iteration is:\n",
      "[30]\ttraining's l2: 24008.4\tvalid_1's l2: 24488.4\n",
      "0.5312488221019467\n",
      "Training until validation scores don't improve for 50 rounds\n",
      "Early stopping, best iteration is:\n",
      "[33]\ttraining's l2: 24061.7\tvalid_1's l2: 24299\n",
      "0.5311955469945515\n",
      "Training until validation scores don't improve for 50 rounds\n",
      "Early stopping, best iteration is:\n",
      "[34]\ttraining's l2: 23963.3\tvalid_1's l2: 24587\n",
      "0.5314158487818003\n",
      "Training until validation scores don't improve for 50 rounds\n"
     ]
    },
    {
     "name": "stderr",
     "output_type": "stream",
     "text": [
      "\u001b[32m[I 2022-11-25 09:44:42,795]\u001b[0m Trial 10 finished with value: 0.5315302100345077 and parameters: {'n_estimators': 10000, 'learning_rate': 0.1397471082881877, 'num_leaves': 60, 'max_depth': 7, 'lambda_l1': 70, 'lambda_l2': 46, 'bagging_fraction': 0.2, 'bagging_freq': 96, 'feature_fraction': 0.9, 'verbosity': -1}. Best is trial 7 with value: 0.5401218277851854.\u001b[0m\n"
     ]
    },
    {
     "name": "stdout",
     "output_type": "stream",
     "text": [
      "Early stopping, best iteration is:\n",
      "[30]\ttraining's l2: 24061.5\tvalid_1's l2: 24143.9\n",
      "0.5319563628477666\n",
      "Training until validation scores don't improve for 50 rounds\n",
      "[200]\ttraining's l2: 23322.9\tvalid_1's l2: 24038.6\n",
      "[400]\ttraining's l2: 23037.6\tvalid_1's l2: 23972.5\n",
      "[600]\ttraining's l2: 22812.9\tvalid_1's l2: 23946.1\n",
      "Early stopping, best iteration is:\n",
      "[655]\ttraining's l2: 22758.7\tvalid_1's l2: 23941\n",
      "0.5419356933894989\n",
      "Training until validation scores don't improve for 50 rounds\n",
      "[200]\ttraining's l2: 23339.3\tvalid_1's l2: 24050.5\n",
      "[400]\ttraining's l2: 23066.7\tvalid_1's l2: 23989\n",
      "[600]\ttraining's l2: 22823.1\tvalid_1's l2: 23954.5\n",
      "Early stopping, best iteration is:\n",
      "[694]\ttraining's l2: 22735.9\tvalid_1's l2: 23947.1\n",
      "0.5420233892367072\n",
      "Training until validation scores don't improve for 50 rounds\n",
      "[200]\ttraining's l2: 23381.1\tvalid_1's l2: 23830.8\n",
      "[400]\ttraining's l2: 23094.6\tvalid_1's l2: 23770\n",
      "[600]\ttraining's l2: 22850.8\tvalid_1's l2: 23736.9\n",
      "[800]\ttraining's l2: 22671.5\tvalid_1's l2: 23725.6\n",
      "Early stopping, best iteration is:\n",
      "[940]\ttraining's l2: 22556.6\tvalid_1's l2: 23715\n",
      "0.54215256995338\n",
      "Training until validation scores don't improve for 50 rounds\n",
      "[200]\ttraining's l2: 23309.5\tvalid_1's l2: 24158.8\n",
      "[400]\ttraining's l2: 23023\tvalid_1's l2: 24082.3\n",
      "[600]\ttraining's l2: 22785.6\tvalid_1's l2: 24051.3\n",
      "Early stopping, best iteration is:\n",
      "[722]\ttraining's l2: 22653.2\tvalid_1's l2: 24042.2\n",
      "0.5413273284167732\n",
      "Training until validation scores don't improve for 50 rounds\n",
      "[200]\ttraining's l2: 23398.7\tvalid_1's l2: 23762\n",
      "[400]\ttraining's l2: 23127.8\tvalid_1's l2: 23705.3\n",
      "[600]\ttraining's l2: 22875.3\tvalid_1's l2: 23674.4\n",
      "[800]\ttraining's l2: 22677.7\tvalid_1's l2: 23660.8\n",
      "Early stopping, best iteration is:\n",
      "[895]\ttraining's l2: 22587.5\tvalid_1's l2: 23656.2\n"
     ]
    },
    {
     "name": "stderr",
     "output_type": "stream",
     "text": [
      "\u001b[32m[I 2022-11-25 09:48:31,047]\u001b[0m Trial 11 finished with value: 0.5419166533741924 and parameters: {'n_estimators': 10000, 'learning_rate': 0.051471445281696226, 'num_leaves': 2920, 'max_depth': 6, 'lambda_l1': 100, 'lambda_l2': 26, 'bagging_fraction': 0.95, 'bagging_freq': 115, 'feature_fraction': 0.85, 'verbosity': -1}. Best is trial 11 with value: 0.5419166533741924.\u001b[0m\n"
     ]
    },
    {
     "name": "stdout",
     "output_type": "stream",
     "text": [
      "0.5421442858746027\n",
      "Training until validation scores don't improve for 50 rounds\n",
      "[200]\ttraining's l2: 22364.2\tvalid_1's l2: 23969.2\n",
      "Early stopping, best iteration is:\n",
      "[216]\ttraining's l2: 22289.2\tvalid_1's l2: 23965\n",
      "0.5410841711952309\n",
      "Training until validation scores don't improve for 50 rounds\n",
      "[200]\ttraining's l2: 22448.4\tvalid_1's l2: 23983.3\n",
      "Early stopping, best iteration is:\n",
      "[226]\ttraining's l2: 22349\tvalid_1's l2: 23979.3\n",
      "0.5410864002638862\n",
      "Training until validation scores don't improve for 50 rounds\n",
      "[200]\ttraining's l2: 22476.9\tvalid_1's l2: 23764.6\n",
      "Early stopping, best iteration is:\n",
      "[224]\ttraining's l2: 22376.5\tvalid_1's l2: 23761.2\n",
      "0.5414940434660931\n",
      "Training until validation scores don't improve for 50 rounds\n",
      "[200]\ttraining's l2: 22405.9\tvalid_1's l2: 24050.5\n",
      "Early stopping, best iteration is:\n",
      "[245]\ttraining's l2: 22234.4\tvalid_1's l2: 24045.6\n",
      "0.5409350843841817\n",
      "Training until validation scores don't improve for 50 rounds\n",
      "[200]\ttraining's l2: 22475.2\tvalid_1's l2: 23694.4\n",
      "Early stopping, best iteration is:\n",
      "[201]\ttraining's l2: 22471.9\tvalid_1's l2: 23693.9\n"
     ]
    },
    {
     "name": "stderr",
     "output_type": "stream",
     "text": [
      "\u001b[32m[I 2022-11-25 09:50:02,929]\u001b[0m Trial 12 finished with value: 0.5412449502468215 and parameters: {'n_estimators': 10000, 'learning_rate': 0.14102964504319349, 'num_leaves': 3020, 'max_depth': 7, 'lambda_l1': 74, 'lambda_l2': 30, 'bagging_fraction': 0.95, 'bagging_freq': 147, 'feature_fraction': 0.85, 'verbosity': -1}. Best is trial 11 with value: 0.5419166533741924.\u001b[0m\n"
     ]
    },
    {
     "name": "stdout",
     "output_type": "stream",
     "text": [
      "0.5416250519247157\n",
      "Training until validation scores don't improve for 50 rounds\n",
      "[200]\ttraining's l2: 23140.3\tvalid_1's l2: 24060\n",
      "[400]\ttraining's l2: 22813.6\tvalid_1's l2: 24004.7\n",
      "Early stopping, best iteration is:\n",
      "[501]\ttraining's l2: 22683.7\tvalid_1's l2: 23990.5\n",
      "0.540483306886905\n",
      "Training until validation scores don't improve for 50 rounds\n",
      "[200]\ttraining's l2: 23126.7\tvalid_1's l2: 24082.1\n",
      "[400]\ttraining's l2: 22824.5\tvalid_1's l2: 24025.4\n",
      "Early stopping, best iteration is:\n",
      "[516]\ttraining's l2: 22675.6\tvalid_1's l2: 24012.8\n",
      "0.5406503260252364\n",
      "Training until validation scores don't improve for 50 rounds\n",
      "[200]\ttraining's l2: 23176.5\tvalid_1's l2: 23866.2\n",
      "[400]\ttraining's l2: 22883.7\tvalid_1's l2: 23808.8\n",
      "[600]\ttraining's l2: 22608\tvalid_1's l2: 23784.5\n",
      "Early stopping, best iteration is:\n",
      "[614]\ttraining's l2: 22593.8\tvalid_1's l2: 23782.6\n",
      "0.5407872895093286\n",
      "Training until validation scores don't improve for 50 rounds\n",
      "[200]\ttraining's l2: 23106.1\tvalid_1's l2: 24160.3\n",
      "[400]\ttraining's l2: 22807.2\tvalid_1's l2: 24117.1\n",
      "[600]\ttraining's l2: 22529.5\tvalid_1's l2: 24095.4\n",
      "[800]\ttraining's l2: 22316.9\tvalid_1's l2: 24085\n",
      "Early stopping, best iteration is:\n",
      "[815]\ttraining's l2: 22297\tvalid_1's l2: 24082.3\n",
      "0.5404310408026421\n",
      "Training until validation scores don't improve for 50 rounds\n",
      "[200]\ttraining's l2: 23193.2\tvalid_1's l2: 23755.8\n",
      "[400]\ttraining's l2: 22894.9\tvalid_1's l2: 23725.8\n",
      "[600]\ttraining's l2: 22624.4\tvalid_1's l2: 23707.7\n",
      "Early stopping, best iteration is:\n",
      "[610]\ttraining's l2: 22613.3\tvalid_1's l2: 23706.8\n"
     ]
    },
    {
     "name": "stderr",
     "output_type": "stream",
     "text": [
      "\u001b[32m[I 2022-11-25 09:53:07,087]\u001b[0m Trial 13 finished with value: 0.5407312368195074 and parameters: {'n_estimators': 10000, 'learning_rate': 0.05151841477961682, 'num_leaves': 2140, 'max_depth': 7, 'lambda_l1': 60, 'lambda_l2': 36, 'bagging_fraction': 0.7, 'bagging_freq': 145, 'feature_fraction': 0.8, 'verbosity': -1}. Best is trial 11 with value: 0.5419166533741924.\u001b[0m\n"
     ]
    },
    {
     "name": "stdout",
     "output_type": "stream",
     "text": [
      "0.5413042208734244\n",
      "Training until validation scores don't improve for 50 rounds\n",
      "Early stopping, best iteration is:\n",
      "[136]\ttraining's l2: 21984.3\tvalid_1's l2: 23963.5\n",
      "0.540828758672288\n",
      "Training until validation scores don't improve for 50 rounds\n",
      "[200]\ttraining's l2: 21650.1\tvalid_1's l2: 23991.5\n",
      "Early stopping, best iteration is:\n",
      "[167]\ttraining's l2: 21842.4\tvalid_1's l2: 23978.2\n",
      "0.5409425579753839\n",
      "Training until validation scores don't improve for 50 rounds\n",
      "Early stopping, best iteration is:\n",
      "[136]\ttraining's l2: 22095.5\tvalid_1's l2: 23758.1\n",
      "0.5414256191122329\n",
      "Training until validation scores don't improve for 50 rounds\n",
      "[200]\ttraining's l2: 21623.5\tvalid_1's l2: 24075.1\n",
      "Early stopping, best iteration is:\n",
      "[151]\ttraining's l2: 21930.6\tvalid_1's l2: 24065.6\n",
      "0.5406993654300443\n",
      "Training until validation scores don't improve for 50 rounds\n",
      "Early stopping, best iteration is:\n",
      "[148]\ttraining's l2: 21981.7\tvalid_1's l2: 23705.4\n"
     ]
    },
    {
     "name": "stderr",
     "output_type": "stream",
     "text": [
      "\u001b[32m[I 2022-11-25 09:54:34,733]\u001b[0m Trial 14 finished with value: 0.541047474749976 and parameters: {'n_estimators': 10000, 'learning_rate': 0.14365792083272694, 'num_leaves': 3020, 'max_depth': 9, 'lambda_l1': 80, 'lambda_l2': 62, 'bagging_fraction': 0.95, 'bagging_freq': 125, 'feature_fraction': 0.75, 'verbosity': -1}. Best is trial 11 with value: 0.5419166533741924.\u001b[0m\n"
     ]
    },
    {
     "name": "stdout",
     "output_type": "stream",
     "text": [
      "0.5413410725599317\n",
      "Training until validation scores don't improve for 50 rounds\n",
      "Early stopping, best iteration is:\n",
      "[139]\ttraining's l2: 22051.3\tvalid_1's l2: 24039\n",
      "0.5388933516691057\n",
      "Training until validation scores don't improve for 50 rounds\n",
      "Early stopping, best iteration is:\n",
      "[149]\ttraining's l2: 22009.8\tvalid_1's l2: 24072.4\n",
      "0.5398023320566758\n",
      "Training until validation scores don't improve for 50 rounds\n",
      "Early stopping, best iteration is:\n",
      "[128]\ttraining's l2: 22207.7\tvalid_1's l2: 23853\n",
      "0.5393752456450416\n",
      "Training until validation scores don't improve for 50 rounds\n",
      "Early stopping, best iteration is:\n",
      "[142]\ttraining's l2: 22034.9\tvalid_1's l2: 24138.8\n",
      "0.5394781892273466\n",
      "Training until validation scores don't improve for 50 rounds\n",
      "Early stopping, best iteration is:\n",
      "[126]\ttraining's l2: 22255.5\tvalid_1's l2: 23791.2\n"
     ]
    },
    {
     "name": "stderr",
     "output_type": "stream",
     "text": [
      "\u001b[32m[I 2022-11-25 09:55:53,216]\u001b[0m Trial 15 finished with value: 0.5395119567307125 and parameters: {'n_estimators': 10000, 'learning_rate': 0.1359242798299862, 'num_leaves': 1440, 'max_depth': 9, 'lambda_l1': 98, 'lambda_l2': 32, 'bagging_fraction': 0.75, 'bagging_freq': 87, 'feature_fraction': 0.85, 'verbosity': -1}. Best is trial 11 with value: 0.5419166533741924.\u001b[0m\n"
     ]
    },
    {
     "name": "stdout",
     "output_type": "stream",
     "text": [
      "0.5400106650553924\n",
      "Training until validation scores don't improve for 50 rounds\n",
      "[200]\ttraining's l2: 23485.8\tvalid_1's l2: 24109.5\n",
      "[400]\ttraining's l2: 23271.2\tvalid_1's l2: 24058.5\n",
      "[600]\ttraining's l2: 23107.8\tvalid_1's l2: 24032.8\n",
      "[800]\ttraining's l2: 22952.7\tvalid_1's l2: 24018.7\n",
      "Early stopping, best iteration is:\n",
      "[789]\ttraining's l2: 22960.1\tvalid_1's l2: 24018.1\n",
      "0.5404988540578356\n",
      "Training until validation scores don't improve for 50 rounds\n",
      "[200]\ttraining's l2: 23476.4\tvalid_1's l2: 24121.9\n",
      "[400]\ttraining's l2: 23286.6\tvalid_1's l2: 24072.2\n",
      "[600]\ttraining's l2: 23089.7\tvalid_1's l2: 24039.8\n",
      "Early stopping, best iteration is:\n",
      "[602]\ttraining's l2: 23088.5\tvalid_1's l2: 24039.1\n",
      "0.5403036781895789\n",
      "Training until validation scores don't improve for 50 rounds\n",
      "[200]\ttraining's l2: 23544.2\tvalid_1's l2: 23909.4\n",
      "[400]\ttraining's l2: 23342.8\tvalid_1's l2: 23856.7\n",
      "Early stopping, best iteration is:\n",
      "[501]\ttraining's l2: 23240.2\tvalid_1's l2: 23844\n",
      "0.5395836758468461\n",
      "Training until validation scores don't improve for 50 rounds\n",
      "[200]\ttraining's l2: 23469.5\tvalid_1's l2: 24219.9\n",
      "[400]\ttraining's l2: 23266.9\tvalid_1's l2: 24165\n",
      "[600]\ttraining's l2: 23062.4\tvalid_1's l2: 24130.9\n",
      "[800]\ttraining's l2: 22922.5\tvalid_1's l2: 24113.9\n",
      "Early stopping, best iteration is:\n",
      "[822]\ttraining's l2: 22906.6\tvalid_1's l2: 24111.6\n",
      "0.5401855610811638\n",
      "Training until validation scores don't improve for 50 rounds\n",
      "[200]\ttraining's l2: 23562.4\tvalid_1's l2: 23821.1\n",
      "[400]\ttraining's l2: 23360.3\tvalid_1's l2: 23781.2\n",
      "[600]\ttraining's l2: 23179.5\tvalid_1's l2: 23760.7\n",
      "[800]\ttraining's l2: 23020.9\tvalid_1's l2: 23745.3\n",
      "Early stopping, best iteration is:\n",
      "[810]\ttraining's l2: 23013.5\tvalid_1's l2: 23744.4\n"
     ]
    },
    {
     "name": "stderr",
     "output_type": "stream",
     "text": [
      "\u001b[32m[I 2022-11-25 09:58:35,411]\u001b[0m Trial 16 finished with value: 0.5401979404705903 and parameters: {'n_estimators': 10000, 'learning_rate': 0.050080280903395336, 'num_leaves': 2380, 'max_depth': 6, 'lambda_l1': 58, 'lambda_l2': 60, 'bagging_fraction': 0.6000000000000001, 'bagging_freq': 146, 'feature_fraction': 0.8, 'verbosity': -1}. Best is trial 11 with value: 0.5419166533741924.\u001b[0m\n"
     ]
    },
    {
     "name": "stdout",
     "output_type": "stream",
     "text": [
      "0.5404179331775272\n",
      "Training until validation scores don't improve for 50 rounds\n",
      "[200]\ttraining's l2: 23075.2\tvalid_1's l2: 24018.1\n",
      "[400]\ttraining's l2: 22659\tvalid_1's l2: 23987\n",
      "Early stopping, best iteration is:\n",
      "[396]\ttraining's l2: 22664.3\tvalid_1's l2: 23986.1\n",
      "0.5409107306424146\n",
      "Training until validation scores don't improve for 50 rounds\n",
      "[200]\ttraining's l2: 23098.9\tvalid_1's l2: 24022.6\n",
      "[400]\ttraining's l2: 22690.2\tvalid_1's l2: 23998.8\n",
      "Early stopping, best iteration is:\n",
      "[429]\ttraining's l2: 22634.3\tvalid_1's l2: 23997.9\n",
      "0.540888291698798\n",
      "Training until validation scores don't improve for 50 rounds\n",
      "[200]\ttraining's l2: 23138.1\tvalid_1's l2: 23808.5\n",
      "Early stopping, best iteration is:\n",
      "[287]\ttraining's l2: 22944.4\tvalid_1's l2: 23789.6\n",
      "0.5404912934320338\n",
      "Training until validation scores don't improve for 50 rounds\n",
      "[200]\ttraining's l2: 23063.8\tvalid_1's l2: 24122.9\n",
      "[400]\ttraining's l2: 22680.9\tvalid_1's l2: 24095.2\n",
      "Early stopping, best iteration is:\n",
      "[360]\ttraining's l2: 22741\tvalid_1's l2: 24093.5\n",
      "0.5402181400935703\n",
      "Training until validation scores don't improve for 50 rounds\n",
      "[200]\ttraining's l2: 23139.8\tvalid_1's l2: 23732.2\n",
      "Early stopping, best iteration is:\n",
      "[329]\ttraining's l2: 22818.1\tvalid_1's l2: 23715.8\n"
     ]
    },
    {
     "name": "stderr",
     "output_type": "stream",
     "text": [
      "\u001b[32m[I 2022-11-25 10:00:23,793]\u001b[0m Trial 17 finished with value: 0.5406799703242996 and parameters: {'n_estimators': 10000, 'learning_rate': 0.10899155970249066, 'num_leaves': 760, 'max_depth': 6, 'lambda_l1': 68, 'lambda_l2': 40, 'bagging_fraction': 0.8, 'bagging_freq': 129, 'feature_fraction': 0.95, 'verbosity': -1}. Best is trial 11 with value: 0.5419166533741924.\u001b[0m\n"
     ]
    },
    {
     "name": "stdout",
     "output_type": "stream",
     "text": [
      "0.5408913957546813\n",
      "Training until validation scores don't improve for 50 rounds\n",
      "Early stopping, best iteration is:\n",
      "[55]\ttraining's l2: 22136\tvalid_1's l2: 24038\n",
      "0.5395706393334306\n",
      "Training until validation scores don't improve for 50 rounds\n",
      "Early stopping, best iteration is:\n",
      "[70]\ttraining's l2: 21878.4\tvalid_1's l2: 24063.2\n",
      "0.5395206217657794\n",
      "Training until validation scores don't improve for 50 rounds\n",
      "Early stopping, best iteration is:\n",
      "[49]\ttraining's l2: 22237.9\tvalid_1's l2: 23837.6\n",
      "0.5399298737712224\n",
      "Training until validation scores don't improve for 50 rounds\n",
      "Early stopping, best iteration is:\n",
      "[74]\ttraining's l2: 21798.6\tvalid_1's l2: 24146.3\n",
      "0.539128855032839\n",
      "Training until validation scores don't improve for 50 rounds\n",
      "Early stopping, best iteration is:\n",
      "[48]\ttraining's l2: 22274.4\tvalid_1's l2: 23766.5\n"
     ]
    },
    {
     "name": "stderr",
     "output_type": "stream",
     "text": [
      "\u001b[32m[I 2022-11-25 10:01:17,284]\u001b[0m Trial 18 finished with value: 0.5396703113972171 and parameters: {'n_estimators': 10000, 'learning_rate': 0.2377532391553559, 'num_leaves': 1720, 'max_depth': 9, 'lambda_l1': 88, 'lambda_l2': 20, 'bagging_fraction': 0.95, 'bagging_freq': 107, 'feature_fraction': 0.85, 'verbosity': -1}. Best is trial 11 with value: 0.5419166533741924.\u001b[0m\n"
     ]
    },
    {
     "name": "stdout",
     "output_type": "stream",
     "text": [
      "0.540201567082814\n",
      "Training until validation scores don't improve for 50 rounds\n",
      "[200]\ttraining's l2: 23431.6\tvalid_1's l2: 24154.3\n",
      "Early stopping, best iteration is:\n",
      "[239]\ttraining's l2: 23355.9\tvalid_1's l2: 24146.1\n",
      "0.5386297584250529\n",
      "Training until validation scores don't improve for 50 rounds\n",
      "[200]\ttraining's l2: 23431.6\tvalid_1's l2: 24156.3\n",
      "Early stopping, best iteration is:\n",
      "[164]\ttraining's l2: 23503.7\tvalid_1's l2: 24154.7\n",
      "0.5377939509690874\n",
      "Training until validation scores don't improve for 50 rounds\n",
      "[200]\ttraining's l2: 23506.6\tvalid_1's l2: 23918\n",
      "Early stopping, best iteration is:\n",
      "[235]\ttraining's l2: 23435.5\tvalid_1's l2: 23910.9\n",
      "0.5382809925011853\n",
      "Training until validation scores don't improve for 50 rounds\n",
      "[200]\ttraining's l2: 23432.1\tvalid_1's l2: 24234.6\n",
      "[400]\ttraining's l2: 23111.5\tvalid_1's l2: 24212.5\n",
      "Early stopping, best iteration is:\n",
      "[392]\ttraining's l2: 23119.7\tvalid_1's l2: 24210\n",
      "0.5379675843749927\n",
      "Training until validation scores don't improve for 50 rounds\n",
      "[200]\ttraining's l2: 23518.8\tvalid_1's l2: 23860.9\n",
      "Early stopping, best iteration is:\n",
      "[250]\ttraining's l2: 23425.8\tvalid_1's l2: 23848.8\n"
     ]
    },
    {
     "name": "stderr",
     "output_type": "stream",
     "text": [
      "\u001b[32m[I 2022-11-25 10:02:13,029]\u001b[0m Trial 19 finished with value: 0.5381786956133447 and parameters: {'n_estimators': 10000, 'learning_rate': 0.1641154324688307, 'num_leaves': 1080, 'max_depth': 5, 'lambda_l1': 76, 'lambda_l2': 78, 'bagging_fraction': 0.5, 'bagging_freq': 77, 'feature_fraction': 0.9, 'verbosity': -1}. Best is trial 11 with value: 0.5419166533741924.\u001b[0m\n"
     ]
    },
    {
     "name": "stdout",
     "output_type": "stream",
     "text": [
      "0.5382211917964053\n",
      "Training until validation scores don't improve for 50 rounds\n",
      "[200]\ttraining's l2: 23228.3\tvalid_1's l2: 24244.3\n",
      "Early stopping, best iteration is:\n",
      "[202]\ttraining's l2: 23225.2\tvalid_1's l2: 24244.2\n",
      "0.5361607824560259\n",
      "Training until validation scores don't improve for 50 rounds\n",
      "Early stopping, best iteration is:\n",
      "[57]\ttraining's l2: 23577.4\tvalid_1's l2: 24332.5\n",
      "0.5342178987700306\n",
      "Training until validation scores don't improve for 50 rounds\n",
      "Early stopping, best iteration is:\n",
      "[59]\ttraining's l2: 23630.9\tvalid_1's l2: 24114.3\n",
      "0.5346668211867542\n",
      "Training until validation scores don't improve for 50 rounds\n",
      "[200]\ttraining's l2: 23191.6\tvalid_1's l2: 24349.7\n",
      "Early stopping, best iteration is:\n",
      "[203]\ttraining's l2: 23185.3\tvalid_1's l2: 24349\n",
      "0.5355270852821553\n",
      "Training until validation scores don't improve for 50 rounds\n",
      "Early stopping, best iteration is:\n",
      "[55]\ttraining's l2: 23642\tvalid_1's l2: 23993.2\n"
     ]
    },
    {
     "name": "stderr",
     "output_type": "stream",
     "text": [
      "\u001b[32m[I 2022-11-25 10:02:59,316]\u001b[0m Trial 20 finished with value: 0.5352331214895072 and parameters: {'n_estimators': 10000, 'learning_rate': 0.085947771233737, 'num_leaves': 2220, 'max_depth': 8, 'lambda_l1': 90, 'lambda_l2': 100, 'bagging_fraction': 0.35000000000000003, 'bagging_freq': 123, 'feature_fraction': 1.0, 'verbosity': -1}. Best is trial 11 with value: 0.5419166533741924.\u001b[0m\n"
     ]
    },
    {
     "name": "stdout",
     "output_type": "stream",
     "text": [
      "0.5355930197525697\n",
      "Training until validation scores don't improve for 50 rounds\n",
      "[200]\ttraining's l2: 21549.7\tvalid_1's l2: 23965.1\n",
      "Early stopping, best iteration is:\n",
      "[161]\ttraining's l2: 21776.7\tvalid_1's l2: 23954.6\n",
      "0.5409081917965394\n",
      "Training until validation scores don't improve for 50 rounds\n",
      "Early stopping, best iteration is:\n",
      "[136]\ttraining's l2: 21990.8\tvalid_1's l2: 24011.9\n",
      "0.5410965481879759\n",
      "Training until validation scores don't improve for 50 rounds\n",
      "Early stopping, best iteration is:\n",
      "[105]\ttraining's l2: 22192.6\tvalid_1's l2: 23776.7\n",
      "0.5412498469495501\n",
      "Training until validation scores don't improve for 50 rounds\n",
      "Early stopping, best iteration is:\n",
      "[136]\ttraining's l2: 21939.8\tvalid_1's l2: 24061.2\n",
      "0.54064150955096\n",
      "Training until validation scores don't improve for 50 rounds\n",
      "[200]\ttraining's l2: 21643.4\tvalid_1's l2: 23737.1\n",
      "Early stopping, best iteration is:\n",
      "[150]\ttraining's l2: 21928.6\tvalid_1's l2: 23718.6\n"
     ]
    },
    {
     "name": "stderr",
     "output_type": "stream",
     "text": [
      "\u001b[32m[I 2022-11-25 10:04:22,796]\u001b[0m Trial 21 finished with value: 0.5410497004430969 and parameters: {'n_estimators': 10000, 'learning_rate': 0.14950684248467944, 'num_leaves': 3020, 'max_depth': 9, 'lambda_l1': 78, 'lambda_l2': 58, 'bagging_fraction': 0.95, 'bagging_freq': 129, 'feature_fraction': 0.75, 'verbosity': -1}. Best is trial 11 with value: 0.5419166533741924.\u001b[0m\n"
     ]
    },
    {
     "name": "stdout",
     "output_type": "stream",
     "text": [
      "0.5413524057304586\n",
      "Training until validation scores don't improve for 50 rounds\n",
      "Early stopping, best iteration is:\n",
      "[62]\ttraining's l2: 21512.5\tvalid_1's l2: 24031.5\n",
      "0.539359216768164\n",
      "Training until validation scores don't improve for 50 rounds\n",
      "Early stopping, best iteration is:\n",
      "[74]\ttraining's l2: 21347\tvalid_1's l2: 24062.5\n",
      "0.5397958702578494\n",
      "Training until validation scores don't improve for 50 rounds\n",
      "Early stopping, best iteration is:\n",
      "[94]\ttraining's l2: 21167.5\tvalid_1's l2: 23844.1\n",
      "0.5398741260668689\n",
      "Training until validation scores don't improve for 50 rounds\n",
      "Early stopping, best iteration is:\n",
      "[71]\ttraining's l2: 21394.5\tvalid_1's l2: 24115.5\n",
      "0.5396288517449097\n",
      "Training until validation scores don't improve for 50 rounds\n",
      "Early stopping, best iteration is:\n",
      "[64]\ttraining's l2: 21580.7\tvalid_1's l2: 23771.3\n"
     ]
    },
    {
     "name": "stderr",
     "output_type": "stream",
     "text": [
      "\u001b[32m[I 2022-11-25 10:05:47,254]\u001b[0m Trial 22 finished with value: 0.5397606449438817 and parameters: {'n_estimators': 10000, 'learning_rate': 0.1597918693525809, 'num_leaves': 2740, 'max_depth': 12, 'lambda_l1': 62, 'lambda_l2': 56, 'bagging_fraction': 0.95, 'bagging_freq': 138, 'feature_fraction': 0.75, 'verbosity': -1}. Best is trial 11 with value: 0.5419166533741924.\u001b[0m\n"
     ]
    },
    {
     "name": "stdout",
     "output_type": "stream",
     "text": [
      "0.5401451598816165\n",
      "Training until validation scores don't improve for 50 rounds\n",
      "[200]\ttraining's l2: 22361.8\tvalid_1's l2: 23990.7\n",
      "Early stopping, best iteration is:\n",
      "[243]\ttraining's l2: 22209.1\tvalid_1's l2: 23982.9\n",
      "0.5402536514366687\n",
      "Training until validation scores don't improve for 50 rounds\n",
      "[200]\ttraining's l2: 22401.4\tvalid_1's l2: 24029.2\n",
      "Early stopping, best iteration is:\n",
      "[207]\ttraining's l2: 22380\tvalid_1's l2: 24028.6\n",
      "0.5403077838616566\n",
      "Training until validation scores don't improve for 50 rounds\n",
      "[200]\ttraining's l2: 22446.1\tvalid_1's l2: 23809.4\n",
      "Early stopping, best iteration is:\n",
      "[204]\ttraining's l2: 22432.7\tvalid_1's l2: 23808.6\n",
      "0.5402675477442057\n",
      "Training until validation scores don't improve for 50 rounds\n",
      "[200]\ttraining's l2: 22326.9\tvalid_1's l2: 24098\n",
      "Early stopping, best iteration is:\n",
      "[215]\ttraining's l2: 22273.2\tvalid_1's l2: 24094.7\n",
      "0.5403965490626601\n",
      "Training until validation scores don't improve for 50 rounds\n",
      "[200]\ttraining's l2: 22494.5\tvalid_1's l2: 23736.4\n",
      "Early stopping, best iteration is:\n",
      "[250]\ttraining's l2: 22295.7\tvalid_1's l2: 23735.5\n"
     ]
    },
    {
     "name": "stderr",
     "output_type": "stream",
     "text": [
      "\u001b[32m[I 2022-11-25 10:07:23,974]\u001b[0m Trial 23 finished with value: 0.5403808382858625 and parameters: {'n_estimators': 10000, 'learning_rate': 0.11719224705463317, 'num_leaves': 3020, 'max_depth': 8, 'lambda_l1': 52, 'lambda_l2': 74, 'bagging_fraction': 0.8, 'bagging_freq': 99, 'feature_fraction': 0.8, 'verbosity': -1}. Best is trial 11 with value: 0.5419166533741924.\u001b[0m\n"
     ]
    },
    {
     "name": "stdout",
     "output_type": "stream",
     "text": [
      "0.5406786593241214\n",
      "Training until validation scores don't improve for 50 rounds\n",
      "Early stopping, best iteration is:\n",
      "[61]\ttraining's l2: 21980.3\tvalid_1's l2: 24076.7\n",
      "0.5381570053841864\n",
      "Training until validation scores don't improve for 50 rounds\n",
      "Early stopping, best iteration is:\n",
      "[49]\ttraining's l2: 22150.4\tvalid_1's l2: 24114.4\n",
      "0.5390714526855098\n",
      "Training until validation scores don't improve for 50 rounds\n",
      "Early stopping, best iteration is:\n",
      "[33]\ttraining's l2: 22419\tvalid_1's l2: 23890.7\n",
      "0.5388853662023566\n",
      "Training until validation scores don't improve for 50 rounds\n",
      "Early stopping, best iteration is:\n",
      "[55]\ttraining's l2: 22047.1\tvalid_1's l2: 24167.2\n",
      "0.5383344628619646\n",
      "Training until validation scores don't improve for 50 rounds\n",
      "Early stopping, best iteration is:\n",
      "[55]\ttraining's l2: 22144.2\tvalid_1's l2: 23824.7\n"
     ]
    },
    {
     "name": "stderr",
     "output_type": "stream",
     "text": [
      "\u001b[32m[I 2022-11-25 10:08:15,511]\u001b[0m Trial 24 finished with value: 0.5386984765759368 and parameters: {'n_estimators': 10000, 'learning_rate': 0.21705704960102779, 'num_leaves': 2740, 'max_depth': 10, 'lambda_l1': 100, 'lambda_l2': 30, 'bagging_fraction': 0.8500000000000001, 'bagging_freq': 150, 'feature_fraction': 0.75, 'verbosity': -1}. Best is trial 11 with value: 0.5419166533741924.\u001b[0m\n"
     ]
    },
    {
     "name": "stdout",
     "output_type": "stream",
     "text": [
      "0.5390440957456666\n",
      "Training until validation scores don't improve for 50 rounds\n",
      "[200]\ttraining's l2: 22863.5\tvalid_1's l2: 23978.9\n",
      "[400]\ttraining's l2: 22369.7\tvalid_1's l2: 23930.3\n",
      "Early stopping, best iteration is:\n",
      "[448]\ttraining's l2: 22279.9\tvalid_1's l2: 23927.8\n",
      "0.5420347956599689\n",
      "Training until validation scores don't improve for 50 rounds\n",
      "[200]\ttraining's l2: 22830.5\tvalid_1's l2: 23994\n",
      "[400]\ttraining's l2: 22375.2\tvalid_1's l2: 23952.7\n",
      "Early stopping, best iteration is:\n",
      "[413]\ttraining's l2: 22357.3\tvalid_1's l2: 23952.6\n",
      "0.5419517718011795\n",
      "Training until validation scores don't improve for 50 rounds\n",
      "[200]\ttraining's l2: 22894.6\tvalid_1's l2: 23767.3\n",
      "[400]\ttraining's l2: 22455.5\tvalid_1's l2: 23722.1\n",
      "Early stopping, best iteration is:\n",
      "[465]\ttraining's l2: 22323.8\tvalid_1's l2: 23717.5\n",
      "0.5418734656553296\n",
      "Training until validation scores don't improve for 50 rounds\n",
      "[200]\ttraining's l2: 22823.7\tvalid_1's l2: 24074.9\n",
      "[400]\ttraining's l2: 22368.2\tvalid_1's l2: 24029.4\n",
      "Early stopping, best iteration is:\n",
      "[511]\ttraining's l2: 22165.8\tvalid_1's l2: 24021.3\n",
      "0.541379404979034\n",
      "Training until validation scores don't improve for 50 rounds\n",
      "[200]\ttraining's l2: 22932.1\tvalid_1's l2: 23706.5\n",
      "[400]\ttraining's l2: 22437.8\tvalid_1's l2: 23666.6\n",
      "Early stopping, best iteration is:\n",
      "[403]\ttraining's l2: 22433.8\tvalid_1's l2: 23666.6\n"
     ]
    },
    {
     "name": "stderr",
     "output_type": "stream",
     "text": [
      "\u001b[32m[I 2022-11-25 10:10:54,418]\u001b[0m Trial 25 finished with value: 0.5418774090902776 and parameters: {'n_estimators': 10000, 'learning_rate': 0.07484229146344334, 'num_leaves': 2440, 'max_depth': 7, 'lambda_l1': 90, 'lambda_l2': 42, 'bagging_fraction': 0.95, 'bagging_freq': 132, 'feature_fraction': 0.85, 'verbosity': -1}. Best is trial 11 with value: 0.5419166533741924.\u001b[0m\n"
     ]
    },
    {
     "name": "stdout",
     "output_type": "stream",
     "text": [
      "0.5421476073558763\n",
      "Training until validation scores don't improve for 50 rounds\n",
      "[200]\ttraining's l2: 23615.7\tvalid_1's l2: 24109.9\n",
      "[400]\ttraining's l2: 23361.3\tvalid_1's l2: 24050\n",
      "[600]\ttraining's l2: 23165\tvalid_1's l2: 24025.3\n",
      "[800]\ttraining's l2: 23001.3\tvalid_1's l2: 24013.2\n",
      "Early stopping, best iteration is:\n",
      "[816]\ttraining's l2: 22991.7\tvalid_1's l2: 24011.3\n",
      "0.5407673106922286\n",
      "Training until validation scores don't improve for 50 rounds\n",
      "[200]\ttraining's l2: 23618.6\tvalid_1's l2: 24102.8\n",
      "[400]\ttraining's l2: 23370.7\tvalid_1's l2: 24049.5\n",
      "[600]\ttraining's l2: 23210.3\tvalid_1's l2: 24027.6\n",
      "[800]\ttraining's l2: 23048.9\tvalid_1's l2: 24015.3\n",
      "[1000]\ttraining's l2: 22922.2\tvalid_1's l2: 24004.5\n",
      "Early stopping, best iteration is:\n",
      "[1042]\ttraining's l2: 22890.7\tvalid_1's l2: 24000.9\n",
      "0.5404960554402074\n",
      "Training until validation scores don't improve for 50 rounds\n",
      "[200]\ttraining's l2: 23644.1\tvalid_1's l2: 23895.6\n",
      "[400]\ttraining's l2: 23401\tvalid_1's l2: 23826.1\n",
      "[600]\ttraining's l2: 23208.8\tvalid_1's l2: 23792.7\n",
      "Early stopping, best iteration is:\n",
      "[590]\ttraining's l2: 23214.9\tvalid_1's l2: 23792.5\n",
      "0.5404135473573504\n",
      "Training until validation scores don't improve for 50 rounds\n",
      "[200]\ttraining's l2: 23564.8\tvalid_1's l2: 24220.6\n",
      "[400]\ttraining's l2: 23326.6\tvalid_1's l2: 24159.6\n",
      "[600]\ttraining's l2: 23133\tvalid_1's l2: 24120.1\n",
      "[800]\ttraining's l2: 22971.7\tvalid_1's l2: 24108.1\n",
      "Early stopping, best iteration is:\n",
      "[818]\ttraining's l2: 22960\tvalid_1's l2: 24105.3\n",
      "0.5401977825690375\n",
      "Training until validation scores don't improve for 50 rounds\n",
      "[200]\ttraining's l2: 23650.7\tvalid_1's l2: 23815.6\n",
      "[400]\ttraining's l2: 23399.5\tvalid_1's l2: 23765.6\n",
      "[600]\ttraining's l2: 23203.9\tvalid_1's l2: 23742.8\n",
      "[800]\ttraining's l2: 23042.5\tvalid_1's l2: 23723.2\n",
      "Early stopping, best iteration is:\n",
      "[814]\ttraining's l2: 23032.4\tvalid_1's l2: 23721.6\n"
     ]
    },
    {
     "name": "stderr",
     "output_type": "stream",
     "text": [
      "\u001b[32m[I 2022-11-25 10:13:43,239]\u001b[0m Trial 26 finished with value: 0.5405589731328408 and parameters: {'n_estimators': 10000, 'learning_rate': 0.07403336573886787, 'num_leaves': 2440, 'max_depth': 5, 'lambda_l1': 92, 'lambda_l2': 40, 'bagging_fraction': 0.75, 'bagging_freq': 115, 'feature_fraction': 0.85, 'verbosity': -1}. Best is trial 11 with value: 0.5419166533741924.\u001b[0m\n"
     ]
    },
    {
     "name": "stdout",
     "output_type": "stream",
     "text": [
      "0.5409201696053803\n",
      "Training until validation scores don't improve for 50 rounds\n",
      "[200]\ttraining's l2: 22938.7\tvalid_1's l2: 24018\n",
      "[400]\ttraining's l2: 22493.7\tvalid_1's l2: 23956.7\n",
      "Early stopping, best iteration is:\n",
      "[410]\ttraining's l2: 22476.9\tvalid_1's l2: 23954.9\n",
      "0.5413596324727505\n",
      "Training until validation scores don't improve for 50 rounds\n",
      "[200]\ttraining's l2: 22929.1\tvalid_1's l2: 24032.1\n",
      "[400]\ttraining's l2: 22527.5\tvalid_1's l2: 23989.6\n",
      "Early stopping, best iteration is:\n",
      "[407]\ttraining's l2: 22516.4\tvalid_1's l2: 23988.1\n",
      "0.5414019369444751\n",
      "Training until validation scores don't improve for 50 rounds\n",
      "[200]\ttraining's l2: 22971.6\tvalid_1's l2: 23813.3\n",
      "[400]\ttraining's l2: 22567.5\tvalid_1's l2: 23760.1\n",
      "Early stopping, best iteration is:\n",
      "[542]\ttraining's l2: 22325.5\tvalid_1's l2: 23744.4\n",
      "0.541257772458396\n",
      "Training until validation scores don't improve for 50 rounds\n",
      "[200]\ttraining's l2: 22891.6\tvalid_1's l2: 24109.1\n",
      "[400]\ttraining's l2: 22443.3\tvalid_1's l2: 24045.8\n",
      "Early stopping, best iteration is:\n",
      "[408]\ttraining's l2: 22428.4\tvalid_1's l2: 24044.6\n",
      "0.5410445718105812\n",
      "Training until validation scores don't improve for 50 rounds\n",
      "[200]\ttraining's l2: 23004.8\tvalid_1's l2: 23730.8\n",
      "Early stopping, best iteration is:\n",
      "[300]\ttraining's l2: 22784.1\tvalid_1's l2: 23709.5\n"
     ]
    },
    {
     "name": "stderr",
     "output_type": "stream",
     "text": [
      "\u001b[32m[I 2022-11-25 10:16:01,642]\u001b[0m Trial 27 finished with value: 0.5412460975028364 and parameters: {'n_estimators': 10000, 'learning_rate': 0.06573790959732846, 'num_leaves': 2580, 'max_depth': 7, 'lambda_l1': 84, 'lambda_l2': 18, 'bagging_fraction': 0.8, 'bagging_freq': 133, 'feature_fraction': 0.85, 'verbosity': -1}. Best is trial 11 with value: 0.5419166533741924.\u001b[0m\n"
     ]
    },
    {
     "name": "stdout",
     "output_type": "stream",
     "text": [
      "0.5411665738279787\n",
      "Training until validation scores don't improve for 50 rounds\n",
      "[200]\ttraining's l2: 23598\tvalid_1's l2: 24115.9\n",
      "[400]\ttraining's l2: 23388.4\tvalid_1's l2: 24058.4\n",
      "[600]\ttraining's l2: 23201.5\tvalid_1's l2: 24029.9\n",
      "Early stopping, best iteration is:\n",
      "[631]\ttraining's l2: 23177.1\tvalid_1's l2: 24025.7\n",
      "0.5405280235502732\n",
      "Training until validation scores don't improve for 50 rounds\n",
      "[200]\ttraining's l2: 23633.3\tvalid_1's l2: 24122.4\n",
      "[400]\ttraining's l2: 23403.3\tvalid_1's l2: 24069.9\n",
      "[600]\ttraining's l2: 23245.4\tvalid_1's l2: 24050.9\n",
      "Early stopping, best iteration is:\n",
      "[553]\ttraining's l2: 23279.7\tvalid_1's l2: 24049.1\n",
      "0.5402110812259868\n",
      "Training until validation scores don't improve for 50 rounds\n",
      "[200]\ttraining's l2: 23667.6\tvalid_1's l2: 23910.4\n",
      "[400]\ttraining's l2: 23441.6\tvalid_1's l2: 23855.2\n",
      "[600]\ttraining's l2: 23274.5\tvalid_1's l2: 23836.1\n",
      "Early stopping, best iteration is:\n",
      "[726]\ttraining's l2: 23179.3\tvalid_1's l2: 23821.3\n",
      "0.5400402042620834\n",
      "Training until validation scores don't improve for 50 rounds\n",
      "[200]\ttraining's l2: 23589.1\tvalid_1's l2: 24237.5\n",
      "[400]\ttraining's l2: 23350.7\tvalid_1's l2: 24172\n",
      "[600]\ttraining's l2: 23175.3\tvalid_1's l2: 24136.7\n",
      "Early stopping, best iteration is:\n",
      "[630]\ttraining's l2: 23147.9\tvalid_1's l2: 24130.6\n",
      "0.5400376601614731\n",
      "Training until validation scores don't improve for 50 rounds\n",
      "[200]\ttraining's l2: 23684.2\tvalid_1's l2: 23826\n",
      "[400]\ttraining's l2: 23453\tvalid_1's l2: 23784.7\n",
      "Early stopping, best iteration is:\n",
      "[452]\ttraining's l2: 23395.3\tvalid_1's l2: 23778.7\n"
     ]
    },
    {
     "name": "stderr",
     "output_type": "stream",
     "text": [
      "\u001b[32m[I 2022-11-25 10:18:02,208]\u001b[0m Trial 28 finished with value: 0.5401422423727978 and parameters: {'n_estimators': 10000, 'learning_rate': 0.06865778477825357, 'num_leaves': 1820, 'max_depth': 5, 'lambda_l1': 2, 'lambda_l2': 14, 'bagging_fraction': 0.65, 'bagging_freq': 89, 'feature_fraction': 0.9, 'verbosity': -1}. Best is trial 11 with value: 0.5419166533741924.\u001b[0m\n"
     ]
    },
    {
     "name": "stdout",
     "output_type": "stream",
     "text": [
      "0.5398942426641723\n",
      "Training until validation scores don't improve for 50 rounds\n",
      "[200]\ttraining's l2: 22341.3\tvalid_1's l2: 23978.1\n",
      "Early stopping, best iteration is:\n",
      "[224]\ttraining's l2: 22236.5\tvalid_1's l2: 23973\n",
      "0.5407090038977515\n",
      "Training until validation scores don't improve for 50 rounds\n",
      "[200]\ttraining's l2: 22371.1\tvalid_1's l2: 24025.4\n",
      "Early stopping, best iteration is:\n",
      "[263]\ttraining's l2: 22138.2\tvalid_1's l2: 24022.5\n",
      "0.5404502336776106\n",
      "Training until validation scores don't improve for 50 rounds\n",
      "[200]\ttraining's l2: 22432.5\tvalid_1's l2: 23803.4\n",
      "Early stopping, best iteration is:\n",
      "[275]\ttraining's l2: 22148.7\tvalid_1's l2: 23798.2\n",
      "0.5405092138690502\n",
      "Training until validation scores don't improve for 50 rounds\n",
      "[200]\ttraining's l2: 22331.8\tvalid_1's l2: 24076.4\n",
      "Early stopping, best iteration is:\n",
      "[289]\ttraining's l2: 22014.7\tvalid_1's l2: 24063.4\n",
      "0.5404858635279424\n",
      "Training until validation scores don't improve for 50 rounds\n",
      "[200]\ttraining's l2: 22443.7\tvalid_1's l2: 23720.5\n",
      "Early stopping, best iteration is:\n",
      "[244]\ttraining's l2: 22270.5\tvalid_1's l2: 23714.4\n"
     ]
    },
    {
     "name": "stderr",
     "output_type": "stream",
     "text": [
      "\u001b[32m[I 2022-11-25 10:19:52,498]\u001b[0m Trial 29 finished with value: 0.540604904252208 and parameters: {'n_estimators': 10000, 'learning_rate': 0.09072356159518911, 'num_leaves': 2260, 'max_depth': 8, 'lambda_l1': 40, 'lambda_l2': 18, 'bagging_fraction': 0.8, 'bagging_freq': 134, 'feature_fraction': 0.85, 'verbosity': -1}. Best is trial 11 with value: 0.5419166533741924.\u001b[0m\n"
     ]
    },
    {
     "name": "stdout",
     "output_type": "stream",
     "text": [
      "0.5408702062886852\n",
      "Training until validation scores don't improve for 50 rounds\n",
      "[200]\ttraining's l2: 23287.1\tvalid_1's l2: 24054.4\n",
      "[400]\ttraining's l2: 22987.4\tvalid_1's l2: 24005.4\n",
      "[600]\ttraining's l2: 22727.4\tvalid_1's l2: 23985.2\n",
      "Early stopping, best iteration is:\n",
      "[618]\ttraining's l2: 22711.3\tvalid_1's l2: 23983.1\n",
      "0.5412049891424848\n",
      "Training until validation scores don't improve for 50 rounds\n",
      "[200]\ttraining's l2: 23299.7\tvalid_1's l2: 24069.2\n",
      "[400]\ttraining's l2: 22981.5\tvalid_1's l2: 24019.3\n",
      "[600]\ttraining's l2: 22743.1\tvalid_1's l2: 23997.8\n",
      "Early stopping, best iteration is:\n",
      "[623]\ttraining's l2: 22721.1\tvalid_1's l2: 23995.3\n",
      "0.5409384531258703\n",
      "Training until validation scores don't improve for 50 rounds\n",
      "[200]\ttraining's l2: 23342.9\tvalid_1's l2: 23860.7\n",
      "[400]\ttraining's l2: 23034.9\tvalid_1's l2: 23803\n",
      "[600]\ttraining's l2: 22800.2\tvalid_1's l2: 23772.9\n",
      "Early stopping, best iteration is:\n",
      "[613]\ttraining's l2: 22789.2\tvalid_1's l2: 23772.4\n",
      "0.5410113186902687\n",
      "Training until validation scores don't improve for 50 rounds\n",
      "[200]\ttraining's l2: 23283.8\tvalid_1's l2: 24167.6\n",
      "[400]\ttraining's l2: 22978.9\tvalid_1's l2: 24110.5\n",
      "Early stopping, best iteration is:\n",
      "[483]\ttraining's l2: 22858.3\tvalid_1's l2: 24101\n",
      "0.5403364389664191\n",
      "Training until validation scores don't improve for 50 rounds\n",
      "[200]\ttraining's l2: 23358\tvalid_1's l2: 23769.6\n",
      "[400]\ttraining's l2: 23060.1\tvalid_1's l2: 23739.4\n",
      "[600]\ttraining's l2: 22803.4\tvalid_1's l2: 23724.7\n",
      "Early stopping, best iteration is:\n",
      "[613]\ttraining's l2: 22788.2\tvalid_1's l2: 23721.5\n"
     ]
    },
    {
     "name": "stderr",
     "output_type": "stream",
     "text": [
      "\u001b[32m[I 2022-11-25 10:22:20,822]\u001b[0m Trial 30 finished with value: 0.5409115005400459 and parameters: {'n_estimators': 10000, 'learning_rate': 0.06273324088625741, 'num_leaves': 2060, 'max_depth': 6, 'lambda_l1': 84, 'lambda_l2': 0, 'bagging_fraction': 0.7, 'bagging_freq': 119, 'feature_fraction': 0.8, 'verbosity': -1}. Best is trial 11 with value: 0.5419166533741924.\u001b[0m\n"
     ]
    },
    {
     "name": "stdout",
     "output_type": "stream",
     "text": [
      "0.5410663027751861\n",
      "Training until validation scores don't improve for 50 rounds\n",
      "[200]\ttraining's l2: 22542.9\tvalid_1's l2: 23966.1\n",
      "Early stopping, best iteration is:\n",
      "[243]\ttraining's l2: 22400.3\tvalid_1's l2: 23962\n",
      "0.5413236055070072\n",
      "Training until validation scores don't improve for 50 rounds\n",
      "[200]\ttraining's l2: 22582.4\tvalid_1's l2: 23979.2\n",
      "Early stopping, best iteration is:\n",
      "[326]\ttraining's l2: 22196.4\tvalid_1's l2: 23964.3\n",
      "0.5411092102676057\n",
      "Training until validation scores don't improve for 50 rounds\n",
      "[200]\ttraining's l2: 22648.5\tvalid_1's l2: 23763.7\n",
      "Early stopping, best iteration is:\n",
      "[266]\ttraining's l2: 22398.4\tvalid_1's l2: 23756.9\n",
      "0.5409657835216025\n",
      "Training until validation scores don't improve for 50 rounds\n",
      "[200]\ttraining's l2: 22523.6\tvalid_1's l2: 24072.2\n",
      "Early stopping, best iteration is:\n",
      "[289]\ttraining's l2: 22237.5\tvalid_1's l2: 24060.7\n",
      "0.540742552942769\n",
      "Training until validation scores don't improve for 50 rounds\n",
      "[200]\ttraining's l2: 22620.4\tvalid_1's l2: 23707.5\n",
      "Early stopping, best iteration is:\n",
      "[244]\ttraining's l2: 22475.1\tvalid_1's l2: 23703\n"
     ]
    },
    {
     "name": "stderr",
     "output_type": "stream",
     "text": [
      "\u001b[32m[I 2022-11-25 10:24:03,683]\u001b[0m Trial 31 finished with value: 0.541099511342652 and parameters: {'n_estimators': 10000, 'learning_rate': 0.12093672953859225, 'num_leaves': 2540, 'max_depth': 7, 'lambda_l1': 90, 'lambda_l2': 30, 'bagging_fraction': 0.9000000000000001, 'bagging_freq': 137, 'feature_fraction': 0.85, 'verbosity': -1}. Best is trial 11 with value: 0.5419166533741924.\u001b[0m\n"
     ]
    },
    {
     "name": "stdout",
     "output_type": "stream",
     "text": [
      "0.5413564044742755\n",
      "Training until validation scores don't improve for 50 rounds\n",
      "[200]\ttraining's l2: 22775.1\tvalid_1's l2: 23978.1\n",
      "[400]\ttraining's l2: 22258.4\tvalid_1's l2: 23952.8\n",
      "Early stopping, best iteration is:\n",
      "[355]\ttraining's l2: 22364.6\tvalid_1's l2: 23951.1\n",
      "0.5411176002328857\n",
      "Training until validation scores don't improve for 50 rounds\n",
      "[200]\ttraining's l2: 22777.2\tvalid_1's l2: 23995.5\n",
      "[400]\ttraining's l2: 22272.8\tvalid_1's l2: 23972.4\n",
      "Early stopping, best iteration is:\n",
      "[405]\ttraining's l2: 22261.7\tvalid_1's l2: 23970.9\n",
      "0.5413475651610877\n",
      "Training until validation scores don't improve for 50 rounds\n",
      "[200]\ttraining's l2: 22827.9\tvalid_1's l2: 23791.4\n",
      "Early stopping, best iteration is:\n",
      "[321]\ttraining's l2: 22501.7\tvalid_1's l2: 23770.4\n",
      "0.5409043707357317\n",
      "Training until validation scores don't improve for 50 rounds\n",
      "[200]\ttraining's l2: 22739.2\tvalid_1's l2: 24078.7\n",
      "Early stopping, best iteration is:\n",
      "[345]\ttraining's l2: 22383.8\tvalid_1's l2: 24051.3\n",
      "0.5405755728737531\n",
      "Training until validation scores don't improve for 50 rounds\n",
      "[200]\ttraining's l2: 22857.9\tvalid_1's l2: 23713.2\n",
      "Early stopping, best iteration is:\n",
      "[318]\ttraining's l2: 22511.9\tvalid_1's l2: 23693.3\n"
     ]
    },
    {
     "name": "stderr",
     "output_type": "stream",
     "text": [
      "\u001b[32m[I 2022-11-25 10:26:04,799]\u001b[0m Trial 32 finished with value: 0.5410749323999029 and parameters: {'n_estimators': 10000, 'learning_rate': 0.09635621620187236, 'num_leaves': 2780, 'max_depth': 7, 'lambda_l1': 92, 'lambda_l2': 42, 'bagging_fraction': 0.8500000000000001, 'bagging_freq': 140, 'feature_fraction': 0.85, 'verbosity': -1}. Best is trial 11 with value: 0.5419166533741924.\u001b[0m\n"
     ]
    },
    {
     "name": "stdout",
     "output_type": "stream",
     "text": [
      "0.5414295529960564\n",
      "Training until validation scores don't improve for 50 rounds\n",
      "[200]\ttraining's l2: 23715\tvalid_1's l2: 24129.6\n",
      "[400]\ttraining's l2: 23465.1\tvalid_1's l2: 24056.4\n",
      "[600]\ttraining's l2: 23283.1\tvalid_1's l2: 24024.7\n",
      "Early stopping, best iteration is:\n",
      "[577]\ttraining's l2: 23300.1\tvalid_1's l2: 24023.2\n",
      "0.5404104561524576\n",
      "Training until validation scores don't improve for 50 rounds\n",
      "[200]\ttraining's l2: 23743.8\tvalid_1's l2: 24140.7\n",
      "[400]\ttraining's l2: 23472.9\tvalid_1's l2: 24055.3\n",
      "[600]\ttraining's l2: 23304.9\tvalid_1's l2: 24025.3\n",
      "[800]\ttraining's l2: 23174.3\tvalid_1's l2: 24015.4\n",
      "Early stopping, best iteration is:\n",
      "[861]\ttraining's l2: 23139.3\tvalid_1's l2: 24012\n",
      "0.5407599138189175\n",
      "Training until validation scores don't improve for 50 rounds\n",
      "[200]\ttraining's l2: 23795.7\tvalid_1's l2: 23917.8\n",
      "[400]\ttraining's l2: 23526.7\tvalid_1's l2: 23845.2\n",
      "[600]\ttraining's l2: 23351.5\tvalid_1's l2: 23818.5\n",
      "[800]\ttraining's l2: 23221\tvalid_1's l2: 23807.8\n",
      "Early stopping, best iteration is:\n",
      "[879]\ttraining's l2: 23175.2\tvalid_1's l2: 23802.2\n",
      "0.5405031796761046\n",
      "Training until validation scores don't improve for 50 rounds\n",
      "[200]\ttraining's l2: 23697.5\tvalid_1's l2: 24230.1\n",
      "[400]\ttraining's l2: 23438\tvalid_1's l2: 24148.6\n",
      "[600]\ttraining's l2: 23266.8\tvalid_1's l2: 24118.8\n",
      "[800]\ttraining's l2: 23124.9\tvalid_1's l2: 24102.2\n",
      "Early stopping, best iteration is:\n",
      "[904]\ttraining's l2: 23060.6\tvalid_1's l2: 24097\n",
      "0.5404798505088884\n",
      "Training until validation scores don't improve for 50 rounds\n",
      "[200]\ttraining's l2: 23805.9\tvalid_1's l2: 23835.6\n",
      "[400]\ttraining's l2: 23546.5\tvalid_1's l2: 23757.6\n",
      "[600]\ttraining's l2: 23375\tvalid_1's l2: 23733.8\n",
      "Early stopping, best iteration is:\n",
      "[709]\ttraining's l2: 23292\tvalid_1's l2: 23727.6\n"
     ]
    },
    {
     "name": "stderr",
     "output_type": "stream",
     "text": [
      "\u001b[32m[I 2022-11-25 10:28:36,817]\u001b[0m Trial 33 finished with value: 0.5405368591625285 and parameters: {'n_estimators': 10000, 'learning_rate': 0.0985651491732002, 'num_leaves': 2840, 'max_depth': 4, 'lambda_l1': 70, 'lambda_l2': 24, 'bagging_fraction': 0.95, 'bagging_freq': 150, 'feature_fraction': 0.85, 'verbosity': -1}. Best is trial 11 with value: 0.5419166533741924.\u001b[0m\n"
     ]
    },
    {
     "name": "stdout",
     "output_type": "stream",
     "text": [
      "0.5405308956562744\n",
      "Training until validation scores don't improve for 50 rounds\n",
      "Early stopping, best iteration is:\n",
      "[75]\ttraining's l2: 22273.4\tvalid_1's l2: 24070.8\n",
      "0.5384434886870069\n",
      "Training until validation scores don't improve for 50 rounds\n",
      "Early stopping, best iteration is:\n",
      "[41]\ttraining's l2: 22695.1\tvalid_1's l2: 24101.9\n",
      "0.5388551269272068\n",
      "Training until validation scores don't improve for 50 rounds\n",
      "Early stopping, best iteration is:\n",
      "[44]\ttraining's l2: 22705\tvalid_1's l2: 23876.8\n",
      "0.5387542878296985\n",
      "Training until validation scores don't improve for 50 rounds\n",
      "Early stopping, best iteration is:\n",
      "[71]\ttraining's l2: 22311.5\tvalid_1's l2: 24184\n",
      "0.5385560590153928\n",
      "Training until validation scores don't improve for 50 rounds\n",
      "Early stopping, best iteration is:\n",
      "[40]\ttraining's l2: 22744.7\tvalid_1's l2: 23815.7\n"
     ]
    },
    {
     "name": "stderr",
     "output_type": "stream",
     "text": [
      "\u001b[32m[I 2022-11-25 10:29:18,490]\u001b[0m Trial 34 finished with value: 0.5388700465134908 and parameters: {'n_estimators': 10000, 'learning_rate': 0.29564875482434755, 'num_leaves': 2600, 'max_depth': 8, 'lambda_l1': 100, 'lambda_l2': 36, 'bagging_fraction': 0.9000000000000001, 'bagging_freq': 111, 'feature_fraction': 0.85, 'verbosity': -1}. Best is trial 11 with value: 0.5419166533741924.\u001b[0m\n"
     ]
    },
    {
     "name": "stdout",
     "output_type": "stream",
     "text": [
      "0.5397412701081497\n",
      "Training until validation scores don't improve for 50 rounds\n",
      "[200]\ttraining's l2: 23540\tvalid_1's l2: 24082\n",
      "[400]\ttraining's l2: 23223.5\tvalid_1's l2: 24001.2\n",
      "[600]\ttraining's l2: 23015.1\tvalid_1's l2: 23983.5\n",
      "[800]\ttraining's l2: 22849\tvalid_1's l2: 23977.9\n",
      "Early stopping, best iteration is:\n",
      "[810]\ttraining's l2: 22843.3\tvalid_1's l2: 23976.8\n",
      "0.5414942502677584\n",
      "Training until validation scores don't improve for 50 rounds\n",
      "[200]\ttraining's l2: 23555.7\tvalid_1's l2: 24084.3\n",
      "[400]\ttraining's l2: 23244.4\tvalid_1's l2: 24005.4\n",
      "[600]\ttraining's l2: 23038.1\tvalid_1's l2: 23984.5\n",
      "[800]\ttraining's l2: 22878.3\tvalid_1's l2: 23975.2\n",
      "[1000]\ttraining's l2: 22733.5\tvalid_1's l2: 23968\n",
      "Early stopping, best iteration is:\n",
      "[989]\ttraining's l2: 22744.5\tvalid_1's l2: 23967.5\n",
      "0.5408749689578931\n",
      "Training until validation scores don't improve for 50 rounds\n",
      "[200]\ttraining's l2: 23594.5\tvalid_1's l2: 23867.9\n",
      "[400]\ttraining's l2: 23286.4\tvalid_1's l2: 23799.4\n",
      "[600]\ttraining's l2: 23084.2\tvalid_1's l2: 23776.4\n",
      "[800]\ttraining's l2: 22915.1\tvalid_1's l2: 23762.4\n",
      "Early stopping, best iteration is:\n",
      "[812]\ttraining's l2: 22906.7\tvalid_1's l2: 23760.9\n",
      "0.5411221494480496\n",
      "Training until validation scores don't improve for 50 rounds\n",
      "[200]\ttraining's l2: 23519.3\tvalid_1's l2: 24182.9\n",
      "[400]\ttraining's l2: 23218.8\tvalid_1's l2: 24106.6\n",
      "[600]\ttraining's l2: 23009.8\tvalid_1's l2: 24092.8\n",
      "Early stopping, best iteration is:\n",
      "[722]\ttraining's l2: 22900.7\tvalid_1's l2: 24081.7\n",
      "0.5408687981871965\n",
      "Training until validation scores don't improve for 50 rounds\n",
      "[200]\ttraining's l2: 23603.9\tvalid_1's l2: 23787.5\n",
      "[400]\ttraining's l2: 23327.3\tvalid_1's l2: 23724.7\n",
      "Early stopping, best iteration is:\n",
      "[415]\ttraining's l2: 23313.5\tvalid_1's l2: 23724.1\n"
     ]
    },
    {
     "name": "stderr",
     "output_type": "stream",
     "text": [
      "\u001b[32m[I 2022-11-25 10:32:11,433]\u001b[0m Trial 35 finished with value: 0.5409946013822909 and parameters: {'n_estimators': 10000, 'learning_rate': 0.08021291276056638, 'num_leaves': 2340, 'max_depth': 5, 'lambda_l1': 74, 'lambda_l2': 52, 'bagging_fraction': 0.9000000000000001, 'bagging_freq': 132, 'feature_fraction': 0.9, 'verbosity': -1}. Best is trial 11 with value: 0.5419166533741924.\u001b[0m\n"
     ]
    },
    {
     "name": "stdout",
     "output_type": "stream",
     "text": [
      "0.540612840050557\n",
      "Training until validation scores don't improve for 50 rounds\n",
      "[200]\ttraining's l2: 23291.6\tvalid_1's l2: 24039.5\n",
      "[400]\ttraining's l2: 22993\tvalid_1's l2: 23982.6\n",
      "[600]\ttraining's l2: 22759\tvalid_1's l2: 23962.5\n",
      "Early stopping, best iteration is:\n",
      "[558]\ttraining's l2: 22797.5\tvalid_1's l2: 23959.5\n",
      "0.5416099619096151\n",
      "Training until validation scores don't improve for 50 rounds\n",
      "[200]\ttraining's l2: 23287.7\tvalid_1's l2: 24046.6\n",
      "[400]\ttraining's l2: 23002.8\tvalid_1's l2: 24002.7\n",
      "[600]\ttraining's l2: 22764.9\tvalid_1's l2: 23985.1\n",
      "Early stopping, best iteration is:\n",
      "[619]\ttraining's l2: 22739.1\tvalid_1's l2: 23981.1\n",
      "0.5413184966045101\n",
      "Training until validation scores don't improve for 50 rounds\n",
      "[200]\ttraining's l2: 23351.6\tvalid_1's l2: 23828.8\n",
      "[400]\ttraining's l2: 23048\tvalid_1's l2: 23772\n",
      "[600]\ttraining's l2: 22819.9\tvalid_1's l2: 23753.4\n",
      "Early stopping, best iteration is:\n",
      "[650]\ttraining's l2: 22768.9\tvalid_1's l2: 23750.9\n",
      "0.5412661247282813\n",
      "Training until validation scores don't improve for 50 rounds\n",
      "[200]\ttraining's l2: 23268.8\tvalid_1's l2: 24153.1\n",
      "[400]\ttraining's l2: 22989.8\tvalid_1's l2: 24098.9\n",
      "[600]\ttraining's l2: 22752.9\tvalid_1's l2: 24068.4\n",
      "Early stopping, best iteration is:\n",
      "[665]\ttraining's l2: 22692.9\tvalid_1's l2: 24061.1\n",
      "0.5409360073611038\n",
      "Training until validation scores don't improve for 50 rounds\n",
      "[200]\ttraining's l2: 23334.7\tvalid_1's l2: 23753.7\n",
      "[400]\ttraining's l2: 23045.9\tvalid_1's l2: 23704.1\n",
      "Early stopping, best iteration is:\n",
      "[475]\ttraining's l2: 22952.6\tvalid_1's l2: 23697\n"
     ]
    },
    {
     "name": "stderr",
     "output_type": "stream",
     "text": [
      "\u001b[32m[I 2022-11-25 10:34:49,389]\u001b[0m Trial 36 finished with value: 0.5413082287981555 and parameters: {'n_estimators': 10000, 'learning_rate': 0.06457071279816246, 'num_leaves': 2500, 'max_depth': 6, 'lambda_l1': 94, 'lambda_l2': 10, 'bagging_fraction': 0.8, 'bagging_freq': 61, 'feature_fraction': 0.8, 'verbosity': -1}. Best is trial 11 with value: 0.5419166533741924.\u001b[0m\n"
     ]
    },
    {
     "name": "stdout",
     "output_type": "stream",
     "text": [
      "0.5414105533872671\n",
      "Training until validation scores don't improve for 50 rounds\n",
      "[200]\ttraining's l2: 24096.5\tvalid_1's l2: 24301.6\n",
      "[400]\ttraining's l2: 24000.6\tvalid_1's l2: 24262.1\n",
      "[600]\ttraining's l2: 23905.8\tvalid_1's l2: 24214.1\n",
      "[800]\ttraining's l2: 23827.3\tvalid_1's l2: 24178.6\n",
      "[1000]\ttraining's l2: 23774.9\tvalid_1's l2: 24158.2\n",
      "[1200]\ttraining's l2: 23726\tvalid_1's l2: 24142.1\n",
      "[1400]\ttraining's l2: 23686.8\tvalid_1's l2: 24131.5\n",
      "[1600]\ttraining's l2: 23653.1\tvalid_1's l2: 24126.1\n",
      "Early stopping, best iteration is:\n",
      "[1700]\ttraining's l2: 23633.9\tvalid_1's l2: 24122.1\n",
      "0.538635907117246\n",
      "Training until validation scores don't improve for 50 rounds\n",
      "[200]\ttraining's l2: 24106.9\tvalid_1's l2: 24325.2\n",
      "[400]\ttraining's l2: 24008.2\tvalid_1's l2: 24275.5\n",
      "[600]\ttraining's l2: 23920.7\tvalid_1's l2: 24238.1\n",
      "[800]\ttraining's l2: 23854\tvalid_1's l2: 24213.4\n",
      "[1000]\ttraining's l2: 23800.9\tvalid_1's l2: 24188.1\n",
      "[1200]\ttraining's l2: 23752.4\tvalid_1's l2: 24174.4\n",
      "[1400]\ttraining's l2: 23708.5\tvalid_1's l2: 24159.8\n",
      "[1600]\ttraining's l2: 23672.1\tvalid_1's l2: 24149.1\n",
      "[1800]\ttraining's l2: 23634.1\tvalid_1's l2: 24142\n",
      "[2000]\ttraining's l2: 23602\tvalid_1's l2: 24133.3\n",
      "Early stopping, best iteration is:\n",
      "[2135]\ttraining's l2: 23580.9\tvalid_1's l2: 24128.1\n",
      "0.5386263602553991\n",
      "Training until validation scores don't improve for 50 rounds\n",
      "[200]\ttraining's l2: 24144.9\tvalid_1's l2: 24074\n",
      "[400]\ttraining's l2: 24038.6\tvalid_1's l2: 24023.4\n",
      "[600]\ttraining's l2: 23960\tvalid_1's l2: 23985.8\n",
      "[800]\ttraining's l2: 23894.4\tvalid_1's l2: 23967.2\n",
      "[1000]\ttraining's l2: 23835.2\tvalid_1's l2: 23939.6\n",
      "[1200]\ttraining's l2: 23789.8\tvalid_1's l2: 23925.1\n",
      "[1400]\ttraining's l2: 23748.6\tvalid_1's l2: 23915.6\n",
      "[1600]\ttraining's l2: 23714.3\tvalid_1's l2: 23909.5\n",
      "Early stopping, best iteration is:\n",
      "[1585]\ttraining's l2: 23716.1\tvalid_1's l2: 23908.7\n",
      "0.5382321032890263\n",
      "Training until validation scores don't improve for 50 rounds\n",
      "[200]\ttraining's l2: 24076\tvalid_1's l2: 24428.6\n",
      "[400]\ttraining's l2: 23971\tvalid_1's l2: 24376.2\n",
      "[600]\ttraining's l2: 23894.1\tvalid_1's l2: 24335.8\n",
      "[800]\ttraining's l2: 23828.8\tvalid_1's l2: 24307.5\n",
      "[1000]\ttraining's l2: 23773.6\tvalid_1's l2: 24284.1\n",
      "[1200]\ttraining's l2: 23724.1\tvalid_1's l2: 24267.7\n",
      "[1400]\ttraining's l2: 23686.9\tvalid_1's l2: 24255.5\n",
      "[1600]\ttraining's l2: 23648.5\tvalid_1's l2: 24240.2\n",
      "[1800]\ttraining's l2: 23612.6\tvalid_1's l2: 24230.3\n",
      "[2000]\ttraining's l2: 23578.8\tvalid_1's l2: 24220.1\n",
      "[2200]\ttraining's l2: 23553.1\tvalid_1's l2: 24213.9\n",
      "Early stopping, best iteration is:\n",
      "[2272]\ttraining's l2: 23543.7\tvalid_1's l2: 24210\n",
      "0.5388111699526437\n",
      "Training until validation scores don't improve for 50 rounds\n",
      "[200]\ttraining's l2: 24175.4\tvalid_1's l2: 24011.5\n",
      "[400]\ttraining's l2: 24069.5\tvalid_1's l2: 23964.1\n",
      "[600]\ttraining's l2: 23989.3\tvalid_1's l2: 23929.6\n",
      "[800]\ttraining's l2: 23923.9\tvalid_1's l2: 23901.4\n",
      "[1000]\ttraining's l2: 23862.9\tvalid_1's l2: 23877.4\n",
      "[1200]\ttraining's l2: 23813.6\tvalid_1's l2: 23864.2\n",
      "[1400]\ttraining's l2: 23775.8\tvalid_1's l2: 23853.8\n",
      "[1600]\ttraining's l2: 23738\tvalid_1's l2: 23846.9\n",
      "[1800]\ttraining's l2: 23704.7\tvalid_1's l2: 23836.9\n",
      "Early stopping, best iteration is:\n",
      "[1840]\ttraining's l2: 23697.8\tvalid_1's l2: 23836\n"
     ]
    },
    {
     "name": "stderr",
     "output_type": "stream",
     "text": [
      "\u001b[32m[I 2022-11-25 10:39:01,180]\u001b[0m Trial 37 finished with value: 0.5386246762877303 and parameters: {'n_estimators': 10000, 'learning_rate': 0.061476265967476004, 'num_leaves': 1920, 'max_depth': 3, 'lambda_l1': 84, 'lambda_l2': 6, 'bagging_fraction': 0.8, 'bagging_freq': 63, 'feature_fraction': 0.8, 'verbosity': -1}. Best is trial 11 with value: 0.5419166533741924.\u001b[0m\n"
     ]
    },
    {
     "name": "stdout",
     "output_type": "stream",
     "text": [
      "0.5388178408243364\n",
      "Training until validation scores don't improve for 50 rounds\n",
      "[200]\ttraining's l2: 23275.1\tvalid_1's l2: 24037.3\n",
      "[400]\ttraining's l2: 22981.9\tvalid_1's l2: 23980.2\n",
      "[600]\ttraining's l2: 22757.2\tvalid_1's l2: 23957.8\n",
      "Early stopping, best iteration is:\n",
      "[744]\ttraining's l2: 22610.9\tvalid_1's l2: 23950.7\n",
      "0.541754411094276\n",
      "Training until validation scores don't improve for 50 rounds\n",
      "[200]\ttraining's l2: 23273.9\tvalid_1's l2: 24042\n",
      "[400]\ttraining's l2: 22981.9\tvalid_1's l2: 23985.2\n",
      "[600]\ttraining's l2: 22748.9\tvalid_1's l2: 23970.6\n",
      "Early stopping, best iteration is:\n",
      "[562]\ttraining's l2: 22785.9\tvalid_1's l2: 23966.9\n",
      "0.5415039584558216\n",
      "Training until validation scores don't improve for 50 rounds\n",
      "[200]\ttraining's l2: 23324.5\tvalid_1's l2: 23813.3\n",
      "[400]\ttraining's l2: 23028\tvalid_1's l2: 23758.6\n",
      "[600]\ttraining's l2: 22820.7\tvalid_1's l2: 23741.9\n",
      "Early stopping, best iteration is:\n",
      "[622]\ttraining's l2: 22797.6\tvalid_1's l2: 23737.8\n",
      "0.5417088827024479\n",
      "Training until validation scores don't improve for 50 rounds\n",
      "[200]\ttraining's l2: 23245.9\tvalid_1's l2: 24150.5\n",
      "[400]\ttraining's l2: 22953.1\tvalid_1's l2: 24082\n",
      "[600]\ttraining's l2: 22745.1\tvalid_1's l2: 24059.4\n",
      "Early stopping, best iteration is:\n",
      "[622]\ttraining's l2: 22723.8\tvalid_1's l2: 24055.4\n",
      "0.5409358267095972\n",
      "Training until validation scores don't improve for 50 rounds\n",
      "[200]\ttraining's l2: 23338.5\tvalid_1's l2: 23760.1\n",
      "[400]\ttraining's l2: 23040.8\tvalid_1's l2: 23705.5\n",
      "[600]\ttraining's l2: 22817\tvalid_1's l2: 23688.5\n",
      "Early stopping, best iteration is:\n",
      "[744]\ttraining's l2: 22689.4\tvalid_1's l2: 23681.8\n"
     ]
    },
    {
     "name": "stderr",
     "output_type": "stream",
     "text": [
      "\u001b[32m[I 2022-11-25 10:42:25,718]\u001b[0m Trial 38 finished with value: 0.5415195724650116 and parameters: {'n_estimators': 10000, 'learning_rate': 0.0611271353035445, 'num_leaves': 2480, 'max_depth': 6, 'lambda_l1': 94, 'lambda_l2': 6, 'bagging_fraction': 0.8500000000000001, 'bagging_freq': 56, 'feature_fraction': 0.8, 'verbosity': -1}. Best is trial 11 with value: 0.5419166533741924.\u001b[0m\n"
     ]
    },
    {
     "name": "stdout",
     "output_type": "stream",
     "text": [
      "0.5416947833629151\n",
      "Training until validation scores don't improve for 50 rounds\n",
      "[200]\ttraining's l2: 24121.6\tvalid_1's l2: 24314.5\n",
      "[400]\ttraining's l2: 24015.6\tvalid_1's l2: 24262\n",
      "[600]\ttraining's l2: 23946.9\tvalid_1's l2: 24228.5\n",
      "[800]\ttraining's l2: 23889.7\tvalid_1's l2: 24205.4\n",
      "[1000]\ttraining's l2: 23841.6\tvalid_1's l2: 24185\n",
      "[1200]\ttraining's l2: 23800.7\tvalid_1's l2: 24173.1\n",
      "[1400]\ttraining's l2: 23761.1\tvalid_1's l2: 24158.3\n",
      "[1600]\ttraining's l2: 23727.5\tvalid_1's l2: 24148.8\n",
      "[1800]\ttraining's l2: 23699.4\tvalid_1's l2: 24141.7\n",
      "Early stopping, best iteration is:\n",
      "[1936]\ttraining's l2: 23681.5\tvalid_1's l2: 24136.7\n",
      "0.5384896823188671\n",
      "Training until validation scores don't improve for 50 rounds\n",
      "[200]\ttraining's l2: 24121.6\tvalid_1's l2: 24328.2\n",
      "[400]\ttraining's l2: 24018.8\tvalid_1's l2: 24277.6\n",
      "[600]\ttraining's l2: 23952.3\tvalid_1's l2: 24250.3\n",
      "[800]\ttraining's l2: 23900.2\tvalid_1's l2: 24224.1\n",
      "[1000]\ttraining's l2: 23850.3\tvalid_1's l2: 24202\n",
      "[1200]\ttraining's l2: 23807.1\tvalid_1's l2: 24182.9\n",
      "[1400]\ttraining's l2: 23765.1\tvalid_1's l2: 24170\n",
      "Early stopping, best iteration is:\n",
      "[1459]\ttraining's l2: 23754.9\tvalid_1's l2: 24164.4\n",
      "0.5379711686705418\n",
      "Training until validation scores don't improve for 50 rounds\n",
      "[200]\ttraining's l2: 24179.1\tvalid_1's l2: 24097.7\n",
      "[400]\ttraining's l2: 24075.5\tvalid_1's l2: 24037.8\n",
      "[600]\ttraining's l2: 24010.6\tvalid_1's l2: 24011.8\n",
      "[800]\ttraining's l2: 23955.1\tvalid_1's l2: 23983.3\n",
      "[1000]\ttraining's l2: 23910.7\tvalid_1's l2: 23962.5\n",
      "[1200]\ttraining's l2: 23867\tvalid_1's l2: 23944.7\n",
      "[1400]\ttraining's l2: 23829.9\tvalid_1's l2: 23933\n",
      "[1600]\ttraining's l2: 23794.2\tvalid_1's l2: 23922\n",
      "[1800]\ttraining's l2: 23763.9\tvalid_1's l2: 23913.8\n",
      "Early stopping, best iteration is:\n",
      "[1836]\ttraining's l2: 23757.6\tvalid_1's l2: 23912.8\n",
      "0.5384541821782802\n",
      "Training until validation scores don't improve for 50 rounds\n",
      "[200]\ttraining's l2: 24103.9\tvalid_1's l2: 24453\n",
      "[400]\ttraining's l2: 24009.4\tvalid_1's l2: 24400.8\n",
      "[600]\ttraining's l2: 23940.7\tvalid_1's l2: 24366.7\n",
      "[800]\ttraining's l2: 23885.6\tvalid_1's l2: 24337.7\n",
      "[1000]\ttraining's l2: 23843.5\tvalid_1's l2: 24319.7\n",
      "[1200]\ttraining's l2: 23798.3\tvalid_1's l2: 24295.9\n",
      "[1400]\ttraining's l2: 23759.9\tvalid_1's l2: 24284.1\n",
      "[1600]\ttraining's l2: 23726.6\tvalid_1's l2: 24272.6\n",
      "[1800]\ttraining's l2: 23695.3\tvalid_1's l2: 24259.1\n",
      "[2000]\ttraining's l2: 23667.8\tvalid_1's l2: 24252.3\n",
      "[2200]\ttraining's l2: 23639.8\tvalid_1's l2: 24244.7\n",
      "[2400]\ttraining's l2: 23614.7\tvalid_1's l2: 24236.7\n",
      "[2600]\ttraining's l2: 23587.7\tvalid_1's l2: 24226.2\n",
      "[2800]\ttraining's l2: 23563.1\tvalid_1's l2: 24220.5\n",
      "Early stopping, best iteration is:\n",
      "[2798]\ttraining's l2: 23563.3\tvalid_1's l2: 24220.3\n",
      "0.5384358386060148\n",
      "Training until validation scores don't improve for 50 rounds\n",
      "[200]\ttraining's l2: 24191.6\tvalid_1's l2: 24010.7\n",
      "[400]\ttraining's l2: 24095.6\tvalid_1's l2: 23972\n",
      "[600]\ttraining's l2: 24025.3\tvalid_1's l2: 23938\n",
      "[800]\ttraining's l2: 23967.9\tvalid_1's l2: 23911.3\n",
      "[1000]\ttraining's l2: 23916.3\tvalid_1's l2: 23888.6\n",
      "[1200]\ttraining's l2: 23879\tvalid_1's l2: 23878.2\n",
      "[1400]\ttraining's l2: 23845.5\tvalid_1's l2: 23868.1\n",
      "[1600]\ttraining's l2: 23813.6\tvalid_1's l2: 23861.8\n",
      "[1800]\ttraining's l2: 23783.7\tvalid_1's l2: 23851\n",
      "[2000]\ttraining's l2: 23753.7\tvalid_1's l2: 23843.7\n",
      "Early stopping, best iteration is:\n",
      "[2068]\ttraining's l2: 23743.6\tvalid_1's l2: 23839.4\n"
     ]
    },
    {
     "name": "stderr",
     "output_type": "stream",
     "text": [
      "\u001b[32m[I 2022-11-25 10:47:37,403]\u001b[0m Trial 39 finished with value: 0.5383561256927977 and parameters: {'n_estimators': 10000, 'learning_rate': 0.0521106639697138, 'num_leaves': 2420, 'max_depth': 3, 'lambda_l1': 94, 'lambda_l2': 6, 'bagging_fraction': 0.8500000000000001, 'bagging_freq': 47, 'feature_fraction': 0.8, 'verbosity': -1}. Best is trial 11 with value: 0.5419166533741924.\u001b[0m\n"
     ]
    },
    {
     "name": "stdout",
     "output_type": "stream",
     "text": [
      "0.5384297566902845\n",
      "Training until validation scores don't improve for 50 rounds\n",
      "[200]\ttraining's l2: 23121.3\tvalid_1's l2: 24033.6\n",
      "[400]\ttraining's l2: 22740.7\tvalid_1's l2: 24008.1\n",
      "Early stopping, best iteration is:\n",
      "[361]\ttraining's l2: 22800.2\tvalid_1's l2: 24004.3\n",
      "0.5407095460938984\n",
      "Training until validation scores don't improve for 50 rounds\n",
      "[200]\ttraining's l2: 23124\tvalid_1's l2: 24051.3\n",
      "[400]\ttraining's l2: 22769\tvalid_1's l2: 24033.3\n",
      "Early stopping, best iteration is:\n",
      "[435]\ttraining's l2: 22709.4\tvalid_1's l2: 24028.6\n",
      "0.5402901002714371\n",
      "Training until validation scores don't improve for 50 rounds\n",
      "[200]\ttraining's l2: 23211.2\tvalid_1's l2: 23837.1\n",
      "[400]\ttraining's l2: 22833.4\tvalid_1's l2: 23805.3\n",
      "Early stopping, best iteration is:\n",
      "[360]\ttraining's l2: 22888.7\tvalid_1's l2: 23800.9\n",
      "0.5402794472412322\n",
      "Training until validation scores don't improve for 50 rounds\n",
      "[200]\ttraining's l2: 23106.4\tvalid_1's l2: 24130.1\n",
      "[400]\ttraining's l2: 22692.6\tvalid_1's l2: 24094.3\n",
      "Early stopping, best iteration is:\n",
      "[387]\ttraining's l2: 22717.1\tvalid_1's l2: 24090.9\n",
      "0.5401740532617432\n",
      "Training until validation scores don't improve for 50 rounds\n",
      "[200]\ttraining's l2: 23205.2\tvalid_1's l2: 23753.2\n",
      "[400]\ttraining's l2: 22813.2\tvalid_1's l2: 23733.8\n",
      "Early stopping, best iteration is:\n",
      "[362]\ttraining's l2: 22878.2\tvalid_1's l2: 23730.4\n"
     ]
    },
    {
     "name": "stderr",
     "output_type": "stream",
     "text": [
      "\u001b[32m[I 2022-11-25 10:49:41,130]\u001b[0m Trial 40 finished with value: 0.5403914862636533 and parameters: {'n_estimators': 10000, 'learning_rate': 0.10300301544800933, 'num_leaves': 1700, 'max_depth': 6, 'lambda_l1': 30, 'lambda_l2': 10, 'bagging_fraction': 0.7, 'bagging_freq': 71, 'feature_fraction': 0.8, 'verbosity': -1}. Best is trial 11 with value: 0.5419166533741924.\u001b[0m\n"
     ]
    },
    {
     "name": "stdout",
     "output_type": "stream",
     "text": [
      "0.5405042844499555\n",
      "Training until validation scores don't improve for 50 rounds\n",
      "[200]\ttraining's l2: 23226.9\tvalid_1's l2: 24018\n",
      "[400]\ttraining's l2: 22876.6\tvalid_1's l2: 23968.8\n",
      "[600]\ttraining's l2: 22604.7\tvalid_1's l2: 23954.3\n",
      "Early stopping, best iteration is:\n",
      "[568]\ttraining's l2: 22645.5\tvalid_1's l2: 23952.5\n",
      "0.5414829602911655\n",
      "Training until validation scores don't improve for 50 rounds\n",
      "[200]\ttraining's l2: 23195.1\tvalid_1's l2: 24017.4\n",
      "[400]\ttraining's l2: 22875.5\tvalid_1's l2: 23978.3\n",
      "Early stopping, best iteration is:\n",
      "[533]\ttraining's l2: 22694.3\tvalid_1's l2: 23968.8\n",
      "0.5415182752817711\n",
      "Training until validation scores don't improve for 50 rounds\n",
      "[200]\ttraining's l2: 23254.1\tvalid_1's l2: 23808.2\n",
      "[400]\ttraining's l2: 22924\tvalid_1's l2: 23764.2\n",
      "Early stopping, best iteration is:\n",
      "[507]\ttraining's l2: 22783.9\tvalid_1's l2: 23755.5\n",
      "0.5415778446476982\n",
      "Training until validation scores don't improve for 50 rounds\n",
      "[200]\ttraining's l2: 23207.9\tvalid_1's l2: 24139.8\n",
      "[400]\ttraining's l2: 22883.3\tvalid_1's l2: 24083.8\n",
      "Early stopping, best iteration is:\n",
      "[511]\ttraining's l2: 22747.3\tvalid_1's l2: 24076.4\n",
      "0.5407905305423975\n",
      "Training until validation scores don't improve for 50 rounds\n",
      "[200]\ttraining's l2: 23261.4\tvalid_1's l2: 23733.8\n",
      "[400]\ttraining's l2: 22939.2\tvalid_1's l2: 23690.4\n",
      "Early stopping, best iteration is:\n",
      "[387]\ttraining's l2: 22955.2\tvalid_1's l2: 23688.9\n"
     ]
    },
    {
     "name": "stderr",
     "output_type": "stream",
     "text": [
      "\u001b[32m[I 2022-11-25 10:52:20,300]\u001b[0m Trial 41 finished with value: 0.5414034684002784 and parameters: {'n_estimators': 10000, 'learning_rate': 0.07991776094394612, 'num_leaves': 2580, 'max_depth': 6, 'lambda_l1': 94, 'lambda_l2': 16, 'bagging_fraction': 0.8500000000000001, 'bagging_freq': 47, 'feature_fraction': 0.8, 'verbosity': -1}. Best is trial 11 with value: 0.5419166533741924.\u001b[0m\n"
     ]
    },
    {
     "name": "stdout",
     "output_type": "stream",
     "text": [
      "0.5416477312383601\n",
      "Training until validation scores don't improve for 50 rounds\n",
      "[200]\ttraining's l2: 23781.2\tvalid_1's l2: 24152.4\n",
      "[400]\ttraining's l2: 23586.1\tvalid_1's l2: 24087.1\n",
      "[600]\ttraining's l2: 23443.4\tvalid_1's l2: 24057.7\n",
      "[800]\ttraining's l2: 23343.5\tvalid_1's l2: 24043.9\n",
      "Early stopping, best iteration is:\n",
      "[940]\ttraining's l2: 23276.8\tvalid_1's l2: 24033.3\n",
      "0.5403758998191809\n",
      "Training until validation scores don't improve for 50 rounds\n",
      "[200]\ttraining's l2: 23786.4\tvalid_1's l2: 24163.7\n",
      "[400]\ttraining's l2: 23575.1\tvalid_1's l2: 24090.9\n",
      "[600]\ttraining's l2: 23439.7\tvalid_1's l2: 24066.6\n",
      "[800]\ttraining's l2: 23334.5\tvalid_1's l2: 24044.7\n",
      "[1000]\ttraining's l2: 23244.2\tvalid_1's l2: 24032\n",
      "Early stopping, best iteration is:\n",
      "[1084]\ttraining's l2: 23210\tvalid_1's l2: 24026.7\n",
      "0.5402133505281274\n",
      "Training until validation scores don't improve for 50 rounds\n",
      "[200]\ttraining's l2: 23852.5\tvalid_1's l2: 23941.7\n",
      "[400]\ttraining's l2: 23661.4\tvalid_1's l2: 23878.1\n",
      "[600]\ttraining's l2: 23519.5\tvalid_1's l2: 23851.7\n",
      "[800]\ttraining's l2: 23414.9\tvalid_1's l2: 23836.2\n",
      "Early stopping, best iteration is:\n",
      "[775]\ttraining's l2: 23425.5\tvalid_1's l2: 23833.3\n",
      "0.5397178080953305\n",
      "Training until validation scores don't improve for 50 rounds\n",
      "[200]\ttraining's l2: 23763.5\tvalid_1's l2: 24271.7\n",
      "[400]\ttraining's l2: 23554.4\tvalid_1's l2: 24190.6\n",
      "[600]\ttraining's l2: 23423.2\tvalid_1's l2: 24162.7\n",
      "[800]\ttraining's l2: 23318.5\tvalid_1's l2: 24147.6\n",
      "[1000]\ttraining's l2: 23231.2\tvalid_1's l2: 24133.9\n",
      "Early stopping, best iteration is:\n",
      "[1118]\ttraining's l2: 23185.7\tvalid_1's l2: 24125.2\n",
      "0.5398336059248644\n",
      "Training until validation scores don't improve for 50 rounds\n",
      "[200]\ttraining's l2: 23845.8\tvalid_1's l2: 23847.5\n",
      "[400]\ttraining's l2: 23653.5\tvalid_1's l2: 23795.9\n",
      "[600]\ttraining's l2: 23526\tvalid_1's l2: 23765.1\n",
      "[800]\ttraining's l2: 23411.3\tvalid_1's l2: 23745.1\n",
      "[1000]\ttraining's l2: 23321.4\tvalid_1's l2: 23731.5\n",
      "Early stopping, best iteration is:\n",
      "[1022]\ttraining's l2: 23313.6\tvalid_1's l2: 23730.8\n"
     ]
    },
    {
     "name": "stderr",
     "output_type": "stream",
     "text": [
      "\u001b[32m[I 2022-11-25 10:55:41,634]\u001b[0m Trial 42 finished with value: 0.5401155304103218 and parameters: {'n_estimators': 10000, 'learning_rate': 0.08779925771337405, 'num_leaves': 2680, 'max_depth': 4, 'lambda_l1': 96, 'lambda_l2': 2, 'bagging_fraction': 0.8500000000000001, 'bagging_freq': 43, 'feature_fraction': 0.8, 'verbosity': -1}. Best is trial 11 with value: 0.5419166533741924.\u001b[0m\n"
     ]
    },
    {
     "name": "stdout",
     "output_type": "stream",
     "text": [
      "0.5404369876841058\n",
      "Training until validation scores don't improve for 50 rounds\n",
      "[200]\ttraining's l2: 23186.1\tvalid_1's l2: 24010.7\n",
      "[400]\ttraining's l2: 22884.2\tvalid_1's l2: 23978.5\n",
      "Early stopping, best iteration is:\n",
      "[529]\ttraining's l2: 22736.9\tvalid_1's l2: 23969.9\n",
      "0.541621323275147\n",
      "Training until validation scores don't improve for 50 rounds\n",
      "[200]\ttraining's l2: 23197.8\tvalid_1's l2: 24027.5\n",
      "[400]\ttraining's l2: 22900.8\tvalid_1's l2: 23990\n",
      "[600]\ttraining's l2: 22663.6\tvalid_1's l2: 23975.5\n",
      "Early stopping, best iteration is:\n",
      "[559]\ttraining's l2: 22705.8\tvalid_1's l2: 23972\n",
      "0.5414697609241851\n",
      "Training until validation scores don't improve for 50 rounds\n",
      "[200]\ttraining's l2: 23235.1\tvalid_1's l2: 23787.4\n",
      "[400]\ttraining's l2: 22944.8\tvalid_1's l2: 23757.2\n",
      "Early stopping, best iteration is:\n",
      "[478]\ttraining's l2: 22851.1\tvalid_1's l2: 23753.4\n",
      "0.5412214663177591\n",
      "Training until validation scores don't improve for 50 rounds\n",
      "[200]\ttraining's l2: 23175.8\tvalid_1's l2: 24124.2\n",
      "[400]\ttraining's l2: 22868.7\tvalid_1's l2: 24072.5\n",
      "[600]\ttraining's l2: 22645.9\tvalid_1's l2: 24051.4\n",
      "Early stopping, best iteration is:\n",
      "[665]\ttraining's l2: 22578.1\tvalid_1's l2: 24047.1\n",
      "0.5412419305841231\n",
      "Training until validation scores don't improve for 50 rounds\n",
      "[200]\ttraining's l2: 23267.7\tvalid_1's l2: 23747\n",
      "[400]\ttraining's l2: 22954.2\tvalid_1's l2: 23704.2\n",
      "Early stopping, best iteration is:\n",
      "[487]\ttraining's l2: 22847.6\tvalid_1's l2: 23698.4\n"
     ]
    },
    {
     "name": "stderr",
     "output_type": "stream",
     "text": [
      "\u001b[32m[I 2022-11-25 10:58:45,505]\u001b[0m Trial 43 finished with value: 0.5414342559139962 and parameters: {'n_estimators': 10000, 'learning_rate': 0.07950481733346804, 'num_leaves': 2060, 'max_depth': 6, 'lambda_l1': 94, 'lambda_l2': 14, 'bagging_fraction': 0.9000000000000001, 'bagging_freq': 20, 'feature_fraction': 0.8, 'verbosity': -1}. Best is trial 11 with value: 0.5419166533741924.\u001b[0m\n"
     ]
    },
    {
     "name": "stdout",
     "output_type": "stream",
     "text": [
      "0.541616798468767\n",
      "Training until validation scores don't improve for 50 rounds\n",
      "[200]\ttraining's l2: 23542.9\tvalid_1's l2: 24090.9\n",
      "[400]\ttraining's l2: 23327.9\tvalid_1's l2: 24034.2\n",
      "[600]\ttraining's l2: 23164.4\tvalid_1's l2: 24004.8\n",
      "[800]\ttraining's l2: 23036.1\tvalid_1's l2: 23995.5\n",
      "[1000]\ttraining's l2: 22921.8\tvalid_1's l2: 23986.6\n",
      "Early stopping, best iteration is:\n",
      "[966]\ttraining's l2: 22939.5\tvalid_1's l2: 23983.7\n",
      "0.5414485006975647\n",
      "Training until validation scores don't improve for 50 rounds\n",
      "[200]\ttraining's l2: 23546.3\tvalid_1's l2: 24083.2\n",
      "[400]\ttraining's l2: 23323.1\tvalid_1's l2: 24023.8\n",
      "[600]\ttraining's l2: 23156.8\tvalid_1's l2: 23997.2\n",
      "Early stopping, best iteration is:\n",
      "[620]\ttraining's l2: 23141.6\tvalid_1's l2: 23990.2\n",
      "0.5412684731692996\n",
      "Training until validation scores don't improve for 50 rounds\n",
      "[200]\ttraining's l2: 23595.9\tvalid_1's l2: 23869.8\n",
      "[400]\ttraining's l2: 23376.9\tvalid_1's l2: 23810.4\n",
      "[600]\ttraining's l2: 23217.2\tvalid_1's l2: 23785.2\n",
      "[800]\ttraining's l2: 23081.2\tvalid_1's l2: 23774.3\n",
      "Early stopping, best iteration is:\n",
      "[755]\ttraining's l2: 23107.9\tvalid_1's l2: 23770.8\n",
      "0.5410702596818524\n",
      "Training until validation scores don't improve for 50 rounds\n",
      "[200]\ttraining's l2: 23517.7\tvalid_1's l2: 24176.5\n",
      "[400]\ttraining's l2: 23298.3\tvalid_1's l2: 24119.3\n",
      "[600]\ttraining's l2: 23149.3\tvalid_1's l2: 24086.6\n",
      "[800]\ttraining's l2: 23016.6\tvalid_1's l2: 24069.3\n",
      "[1000]\ttraining's l2: 22896.5\tvalid_1's l2: 24054.6\n",
      "Early stopping, best iteration is:\n",
      "[1064]\ttraining's l2: 22859.6\tvalid_1's l2: 24052.2\n",
      "0.5409535731691641\n",
      "Training until validation scores don't improve for 50 rounds\n",
      "[200]\ttraining's l2: 23628.3\tvalid_1's l2: 23796.7\n",
      "[400]\ttraining's l2: 23393.7\tvalid_1's l2: 23728.6\n",
      "[600]\ttraining's l2: 23230.5\tvalid_1's l2: 23705.5\n",
      "[800]\ttraining's l2: 23091.9\tvalid_1's l2: 23693.9\n",
      "[1000]\ttraining's l2: 22974.4\tvalid_1's l2: 23689\n",
      "Early stopping, best iteration is:\n",
      "[967]\ttraining's l2: 22992.5\tvalid_1's l2: 23687.7\n"
     ]
    },
    {
     "name": "stderr",
     "output_type": "stream",
     "text": [
      "\u001b[32m[I 2022-11-25 11:02:31,834]\u001b[0m Trial 44 finished with value: 0.5412492309732022 and parameters: {'n_estimators': 10000, 'learning_rate': 0.07992850648733484, 'num_leaves': 2100, 'max_depth': 5, 'lambda_l1': 88, 'lambda_l2': 16, 'bagging_fraction': 0.9000000000000001, 'bagging_freq': 20, 'feature_fraction': 0.75, 'verbosity': -1}. Best is trial 11 with value: 0.5419166533741924.\u001b[0m\n"
     ]
    },
    {
     "name": "stdout",
     "output_type": "stream",
     "text": [
      "0.5415053481481298\n",
      "Training until validation scores don't improve for 50 rounds\n",
      "[200]\ttraining's l2: 23836\tvalid_1's l2: 24173.8\n",
      "[400]\ttraining's l2: 23683.8\tvalid_1's l2: 24121.9\n",
      "[600]\ttraining's l2: 23581.8\tvalid_1's l2: 24094.4\n",
      "[800]\ttraining's l2: 23493.9\tvalid_1's l2: 24075.6\n",
      "[1000]\ttraining's l2: 23418.4\tvalid_1's l2: 24057.8\n",
      "[1200]\ttraining's l2: 23356.6\tvalid_1's l2: 24050.4\n",
      "[1400]\ttraining's l2: 23297.7\tvalid_1's l2: 24044\n",
      "[1600]\ttraining's l2: 23242.5\tvalid_1's l2: 24038.3\n",
      "Early stopping, best iteration is:\n",
      "[1686]\ttraining's l2: 23218.8\tvalid_1's l2: 24035.8\n",
      "0.5404191209814184\n",
      "Training until validation scores don't improve for 50 rounds\n",
      "[200]\ttraining's l2: 23838.4\tvalid_1's l2: 24183.7\n",
      "[400]\ttraining's l2: 23675.9\tvalid_1's l2: 24122.7\n",
      "[600]\ttraining's l2: 23575.2\tvalid_1's l2: 24099.6\n",
      "[800]\ttraining's l2: 23489.9\tvalid_1's l2: 24082.8\n",
      "[1000]\ttraining's l2: 23420.1\tvalid_1's l2: 24066.8\n",
      "[1200]\ttraining's l2: 23358.4\tvalid_1's l2: 24058.5\n",
      "[1400]\ttraining's l2: 23297.7\tvalid_1's l2: 24053.4\n",
      "Early stopping, best iteration is:\n",
      "[1458]\ttraining's l2: 23281.6\tvalid_1's l2: 24050.4\n",
      "0.5400835725690731\n",
      "Training until validation scores don't improve for 50 rounds\n",
      "[200]\ttraining's l2: 23884.8\tvalid_1's l2: 23938.9\n",
      "[400]\ttraining's l2: 23731.9\tvalid_1's l2: 23883\n",
      "[600]\ttraining's l2: 23630.7\tvalid_1's l2: 23855.8\n",
      "[800]\ttraining's l2: 23544.1\tvalid_1's l2: 23836.4\n",
      "[1000]\ttraining's l2: 23468.2\tvalid_1's l2: 23824.8\n",
      "[1200]\ttraining's l2: 23405.2\tvalid_1's l2: 23815.5\n",
      "[1400]\ttraining's l2: 23349.9\tvalid_1's l2: 23811.1\n",
      "Early stopping, best iteration is:\n",
      "[1523]\ttraining's l2: 23315.2\tvalid_1's l2: 23805.7\n",
      "0.5403251175880088\n",
      "Training until validation scores don't improve for 50 rounds\n",
      "[200]\ttraining's l2: 23810.2\tvalid_1's l2: 24284.7\n",
      "[400]\ttraining's l2: 23671.2\tvalid_1's l2: 24227.1\n",
      "[600]\ttraining's l2: 23568.1\tvalid_1's l2: 24195.9\n",
      "[800]\ttraining's l2: 23482\tvalid_1's l2: 24173.7\n",
      "[1000]\ttraining's l2: 23409.3\tvalid_1's l2: 24158.9\n",
      "[1200]\ttraining's l2: 23339\tvalid_1's l2: 24141.7\n",
      "Early stopping, best iteration is:\n",
      "[1290]\ttraining's l2: 23312.3\tvalid_1's l2: 24139.5\n",
      "0.5398578824637341\n",
      "Training until validation scores don't improve for 50 rounds\n",
      "[200]\ttraining's l2: 23910.3\tvalid_1's l2: 23868\n",
      "[400]\ttraining's l2: 23765.1\tvalid_1's l2: 23823.5\n",
      "[600]\ttraining's l2: 23658.6\tvalid_1's l2: 23798.3\n",
      "[800]\ttraining's l2: 23566.2\tvalid_1's l2: 23778\n",
      "[1000]\ttraining's l2: 23493.4\tvalid_1's l2: 23760\n",
      "[1200]\ttraining's l2: 23427.6\tvalid_1's l2: 23754.1\n",
      "Early stopping, best iteration is:\n",
      "[1175]\ttraining's l2: 23435.1\tvalid_1's l2: 23753.3\n"
     ]
    },
    {
     "name": "stderr",
     "output_type": "stream",
     "text": [
      "\u001b[32m[I 2022-11-25 11:07:16,908]\u001b[0m Trial 45 finished with value: 0.5401470217752142 and parameters: {'n_estimators': 10000, 'learning_rate': 0.07767761372964971, 'num_leaves': 2300, 'max_depth': 4, 'lambda_l1': 100, 'lambda_l2': 24, 'bagging_fraction': 0.9000000000000001, 'bagging_freq': 14, 'feature_fraction': 0.8, 'verbosity': -1}. Best is trial 11 with value: 0.5419166533741924.\u001b[0m\n"
     ]
    },
    {
     "name": "stdout",
     "output_type": "stream",
     "text": [
      "0.5400494152738369\n",
      "Training until validation scores don't improve for 50 rounds\n",
      "[200]\ttraining's l2: 23023.1\tvalid_1's l2: 24000.8\n",
      "[400]\ttraining's l2: 22572\tvalid_1's l2: 23983.9\n",
      "Early stopping, best iteration is:\n",
      "[364]\ttraining's l2: 22651.1\tvalid_1's l2: 23979.9\n",
      "0.5407459225106503\n",
      "Training until validation scores don't improve for 50 rounds\n",
      "[200]\ttraining's l2: 23033.7\tvalid_1's l2: 24012.6\n",
      "Early stopping, best iteration is:\n",
      "[265]\ttraining's l2: 22891.3\tvalid_1's l2: 24003.7\n",
      "0.5410160181403636\n",
      "Training until validation scores don't improve for 50 rounds\n",
      "[200]\ttraining's l2: 23069.6\tvalid_1's l2: 23794.9\n",
      "Early stopping, best iteration is:\n",
      "[263]\ttraining's l2: 22923.9\tvalid_1's l2: 23779.5\n",
      "0.5406925086421097\n",
      "Training until validation scores don't improve for 50 rounds\n",
      "[200]\ttraining's l2: 22983.7\tvalid_1's l2: 24122.6\n",
      "Early stopping, best iteration is:\n",
      "[266]\ttraining's l2: 22819.1\tvalid_1's l2: 24104.5\n",
      "0.5401349331260396\n",
      "Training until validation scores don't improve for 50 rounds\n",
      "[200]\ttraining's l2: 23053.7\tvalid_1's l2: 23731.9\n",
      "Early stopping, best iteration is:\n",
      "[260]\ttraining's l2: 22897.4\tvalid_1's l2: 23719.2\n"
     ]
    },
    {
     "name": "stderr",
     "output_type": "stream",
     "text": [
      "\u001b[32m[I 2022-11-25 11:08:45,820]\u001b[0m Trial 46 finished with value: 0.5406591379581276 and parameters: {'n_estimators': 10000, 'learning_rate': 0.12479448231499168, 'num_leaves': 1940, 'max_depth': 6, 'lambda_l1': 82, 'lambda_l2': 4, 'bagging_fraction': 0.75, 'bagging_freq': 51, 'feature_fraction': 0.8, 'verbosity': -1}. Best is trial 11 with value: 0.5419166533741924.\u001b[0m\n"
     ]
    },
    {
     "name": "stdout",
     "output_type": "stream",
     "text": [
      "0.5407063073714746\n",
      "Training until validation scores don't improve for 50 rounds\n",
      "[200]\ttraining's l2: 22973\tvalid_1's l2: 24009.3\n",
      "[400]\ttraining's l2: 22612.5\tvalid_1's l2: 23949.9\n",
      "Early stopping, best iteration is:\n",
      "[401]\ttraining's l2: 22611.1\tvalid_1's l2: 23949.7\n",
      "0.5415576892425704\n",
      "Training until validation scores don't improve for 50 rounds\n",
      "[200]\ttraining's l2: 22969\tvalid_1's l2: 24017.4\n",
      "[400]\ttraining's l2: 22623.5\tvalid_1's l2: 23971.7\n",
      "[600]\ttraining's l2: 22359.1\tvalid_1's l2: 23952.8\n",
      "Early stopping, best iteration is:\n",
      "[614]\ttraining's l2: 22341.6\tvalid_1's l2: 23952.1\n",
      "0.5418566699056803\n",
      "Training until validation scores don't improve for 50 rounds\n",
      "[200]\ttraining's l2: 23024.4\tvalid_1's l2: 23788.9\n",
      "[400]\ttraining's l2: 22691.8\tvalid_1's l2: 23741.1\n",
      "[600]\ttraining's l2: 22426.3\tvalid_1's l2: 23727.9\n",
      "Early stopping, best iteration is:\n",
      "[617]\ttraining's l2: 22405.6\tvalid_1's l2: 23724.3\n",
      "0.5417206577217628\n",
      "Training until validation scores don't improve for 50 rounds\n",
      "[200]\ttraining's l2: 22947.6\tvalid_1's l2: 24108.1\n",
      "[400]\ttraining's l2: 22618\tvalid_1's l2: 24047.4\n",
      "[600]\ttraining's l2: 22349\tvalid_1's l2: 24029.8\n",
      "Early stopping, best iteration is:\n",
      "[654]\ttraining's l2: 22278.7\tvalid_1's l2: 24025\n",
      "0.5415184410836028\n",
      "Training until validation scores don't improve for 50 rounds\n",
      "[200]\ttraining's l2: 23029\tvalid_1's l2: 23718\n",
      "[400]\ttraining's l2: 22693.3\tvalid_1's l2: 23675\n",
      "[600]\ttraining's l2: 22424\tvalid_1's l2: 23657.5\n",
      "Early stopping, best iteration is:\n",
      "[623]\ttraining's l2: 22395\tvalid_1's l2: 23656.3\n"
     ]
    },
    {
     "name": "stderr",
     "output_type": "stream",
     "text": [
      "\u001b[32m[I 2022-11-25 11:12:13,928]\u001b[0m Trial 47 finished with value: 0.5418128700270861 and parameters: {'n_estimators': 10000, 'learning_rate': 0.05759541815945643, 'num_leaves': 2860, 'max_depth': 7, 'lambda_l1': 96, 'lambda_l2': 14, 'bagging_fraction': 0.8500000000000001, 'bagging_freq': 36, 'feature_fraction': 0.75, 'verbosity': -1}. Best is trial 11 with value: 0.5419166533741924.\u001b[0m\n"
     ]
    },
    {
     "name": "stdout",
     "output_type": "stream",
     "text": [
      "0.5424108921818147\n",
      "Training until validation scores don't improve for 50 rounds\n",
      "[200]\ttraining's l2: 22590.9\tvalid_1's l2: 23982.2\n",
      "[400]\ttraining's l2: 22166.7\tvalid_1's l2: 23937.3\n",
      "Early stopping, best iteration is:\n",
      "[521]\ttraining's l2: 21952\tvalid_1's l2: 23927.8\n",
      "0.5420489188345088\n",
      "Training until validation scores don't improve for 50 rounds\n",
      "[200]\ttraining's l2: 22613.4\tvalid_1's l2: 23998.9\n",
      "[400]\ttraining's l2: 22201.3\tvalid_1's l2: 23957.2\n",
      "Early stopping, best iteration is:\n",
      "[403]\ttraining's l2: 22193.9\tvalid_1's l2: 23956.3\n",
      "0.5419438237867351\n",
      "Training until validation scores don't improve for 50 rounds\n",
      "[200]\ttraining's l2: 22653.1\tvalid_1's l2: 23764\n",
      "[400]\ttraining's l2: 22256.3\tvalid_1's l2: 23722.3\n",
      "Early stopping, best iteration is:\n",
      "[511]\ttraining's l2: 22069.4\tvalid_1's l2: 23712\n",
      "0.5420843848710557\n",
      "Training until validation scores don't improve for 50 rounds\n",
      "[200]\ttraining's l2: 22592.9\tvalid_1's l2: 24072.3\n",
      "[400]\ttraining's l2: 22180.5\tvalid_1's l2: 24022.8\n",
      "Early stopping, best iteration is:\n",
      "[451]\ttraining's l2: 22086\tvalid_1's l2: 24016.2\n",
      "0.5420237533019361\n",
      "Training until validation scores don't improve for 50 rounds\n",
      "[200]\ttraining's l2: 22665.9\tvalid_1's l2: 23705.6\n",
      "[400]\ttraining's l2: 22249.1\tvalid_1's l2: 23657.1\n",
      "Early stopping, best iteration is:\n",
      "[481]\ttraining's l2: 22098.6\tvalid_1's l2: 23651.6\n"
     ]
    },
    {
     "name": "stderr",
     "output_type": "stream",
     "text": [
      "\u001b[32m[I 2022-11-25 11:15:48,371]\u001b[0m Trial 48 finished with value: 0.5421335787852677 and parameters: {'n_estimators': 10000, 'learning_rate': 0.05000200424684201, 'num_leaves': 2900, 'max_depth': 8, 'lambda_l1': 88, 'lambda_l2': 12, 'bagging_fraction': 0.9000000000000001, 'bagging_freq': 25, 'feature_fraction': 0.75, 'verbosity': -1}. Best is trial 48 with value: 0.5421335787852677.\u001b[0m\n"
     ]
    },
    {
     "name": "stdout",
     "output_type": "stream",
     "text": [
      "0.542567013132103\n",
      "Training until validation scores don't improve for 50 rounds\n",
      "[200]\ttraining's l2: 21815.2\tvalid_1's l2: 23961.2\n",
      "Early stopping, best iteration is:\n",
      "[295]\ttraining's l2: 21465.7\tvalid_1's l2: 23949.3\n",
      "0.5413825749177138\n",
      "Training until validation scores don't improve for 50 rounds\n",
      "[200]\ttraining's l2: 21790\tvalid_1's l2: 23975.7\n",
      "Early stopping, best iteration is:\n",
      "[341]\ttraining's l2: 21272.5\tvalid_1's l2: 23959.7\n",
      "0.5417508609870689\n",
      "Training until validation scores don't improve for 50 rounds\n",
      "[200]\ttraining's l2: 21834.6\tvalid_1's l2: 23751.4\n",
      "Early stopping, best iteration is:\n",
      "[346]\ttraining's l2: 21323.5\tvalid_1's l2: 23730.6\n",
      "0.541787866547853\n",
      "Training until validation scores don't improve for 50 rounds\n",
      "[200]\ttraining's l2: 21813\tvalid_1's l2: 24047.8\n",
      "Early stopping, best iteration is:\n",
      "[343]\ttraining's l2: 21278\tvalid_1's l2: 24024.5\n",
      "0.5411891893813161\n",
      "Training until validation scores don't improve for 50 rounds\n",
      "[200]\ttraining's l2: 21848.7\tvalid_1's l2: 23682.3\n",
      "Early stopping, best iteration is:\n",
      "[310]\ttraining's l2: 21444.5\tvalid_1's l2: 23666.1\n"
     ]
    },
    {
     "name": "stderr",
     "output_type": "stream",
     "text": [
      "\u001b[32m[I 2022-11-25 11:19:20,166]\u001b[0m Trial 49 finished with value: 0.5416724199892347 and parameters: {'n_estimators': 10000, 'learning_rate': 0.05559736748807101, 'num_leaves': 2880, 'max_depth': 10, 'lambda_l1': 86, 'lambda_l2': 26, 'bagging_fraction': 0.95, 'bagging_freq': 39, 'feature_fraction': 0.75, 'verbosity': -1}. Best is trial 48 with value: 0.5421335787852677.\u001b[0m\n"
     ]
    },
    {
     "name": "stdout",
     "output_type": "stream",
     "text": [
      "0.5422516081122211\n"
     ]
    }
   ],
   "source": [
    "import optuna\n",
    "from sklearn.model_selection import KFold, StratifiedKFold\n",
    "import warnings\n",
    "warnings.filterwarnings('ignore')\n",
    "\n",
    "def objective(trial, X, y):\n",
    "    #models = []\n",
    "    kf = KFold(random_state=42, shuffle=True)\n",
    "    CV_res=[]\n",
    "    for i, (trn_idx, tst_idx) in enumerate(kf.split(X)):\n",
    "        X_train, X_valid, y_train, y_valid = X.iloc[trn_idx], X.iloc[tst_idx], y.time_to_under.iloc[trn_idx], y.time_to_under.iloc[tst_idx]\n",
    "        \n",
    "        param_grid = {\n",
    "            \"n_estimators\": trial.suggest_categorical(\"n_estimators\", [10000]),\n",
    "            \"learning_rate\": trial.suggest_float(\"learning_rate\", 0.05, 0.3),\n",
    "            \"num_leaves\": trial.suggest_int(\"num_leaves\", 20, 3020, step=20),\n",
    "            \"max_depth\": trial.suggest_int(\"max_depth\", 0, 12),\n",
    "            #\"min_data_in_leaf\": trial.suggest_int(\"min_data_in_leaf\", 10, 3000, step=50),\n",
    "            \"lambda_l1\": trial.suggest_int(\"lambda_l1\", 0, 100, step=2),\n",
    "            \"lambda_l2\": trial.suggest_int(\"lambda_l2\", 0, 100, step=2),\n",
    "            #\"min_gain_to_split\": trial.suggest_float(\"min_gain_to_split\", 0, 15),\n",
    "            \"bagging_fraction\": trial.suggest_float(\"bagging_fraction\", 0.2, 0.95, step=0.05),\n",
    "            \"bagging_freq\": trial.suggest_int(\"bagging_freq\", 1, 150),\n",
    "            \"feature_fraction\": trial.suggest_float(\"feature_fraction\", 0.75, 1, step=0.05),\n",
    "            \"verbosity\" : trial.suggest_categorical(\"verbosity\", [-1])\n",
    "        }\n",
    "\n",
    "        lgtrain, lgval = lightgbm.Dataset(X_train, y_train), lightgbm.Dataset(X_valid, y_valid)\n",
    "        lgbmodel = lightgbm.train(param_grid, lgtrain, 2000, valid_sets=[lgtrain, lgval], callbacks=[lightgbm.log_evaluation(200), lightgbm.early_stopping(50)])\n",
    "        \n",
    "        r2 = r2_score(y_test.time_to_under, lgbmodel.predict(X_test))\n",
    "        print(r2)\n",
    "        CV_res.append(r2)\n",
    "        #models.append(lgbmodel)\n",
    "    return np.mean(CV_res)\n",
    "\n",
    "study = optuna.create_study(direction=\"maximize\", study_name=\"LGBM Regressor\", pruner=optuna.pruners.MedianPruner(n_warmup_steps=10))\n",
    "func = lambda trial: objective(trial, X, y)\n",
    "study.optimize(func, n_trials=50)"
   ]
  },
  {
   "cell_type": "code",
   "execution_count": 76,
   "id": "7c670fb9-f2a8-469c-8a17-91438fed3d5d",
   "metadata": {},
   "outputs": [
    {
     "data": {
      "text/plain": [
       "{'n_estimators': 10000,\n",
       " 'learning_rate': 0.05000200424684201,\n",
       " 'num_leaves': 2900,\n",
       " 'max_depth': 8,\n",
       " 'lambda_l1': 88,\n",
       " 'lambda_l2': 12,\n",
       " 'bagging_fraction': 0.9000000000000001,\n",
       " 'bagging_freq': 25,\n",
       " 'feature_fraction': 0.75,\n",
       " 'verbosity': -1}"
      ]
     },
     "execution_count": 76,
     "metadata": {},
     "output_type": "execute_result"
    }
   ],
   "source": [
    "params = study.best_params\n",
    "study.best_params"
   ]
  },
  {
   "cell_type": "markdown",
   "id": "67b807c0-0a47-4f88-997b-2eed3e85a524",
   "metadata": {
    "tags": []
   },
   "source": [
    "## CV"
   ]
  },
  {
   "cell_type": "code",
   "execution_count": 55,
   "id": "ab946898-f414-492a-859f-2c774099e8bd",
   "metadata": {},
   "outputs": [],
   "source": [
    "params = {'n_estimators': 10000,\n",
    " 'learning_rate': 0.05000200424684201,\n",
    " 'num_leaves': 2900,\n",
    " 'max_depth': 8,\n",
    " 'lambda_l1': 88,\n",
    " 'lambda_l2': 12,\n",
    " 'bagging_fraction': 0.9000000000000001,\n",
    " 'bagging_freq': 25,\n",
    " 'feature_fraction': 0.75,\n",
    " 'verbosity': -1}\n"
   ]
  },
  {
   "cell_type": "code",
   "execution_count": 77,
   "id": "d365e51d-2ce3-4214-9119-b1d8614a5fc6",
   "metadata": {
    "tags": []
   },
   "outputs": [
    {
     "name": "stdout",
     "output_type": "stream",
     "text": [
      "Training until validation scores don't improve for 50 rounds\n",
      "[200]\ttraining's l2: 22590.9\tvalid_1's l2: 23982.2\n",
      "[400]\ttraining's l2: 22166.7\tvalid_1's l2: 23937.3\n",
      "Early stopping, best iteration is:\n",
      "[521]\ttraining's l2: 21952\tvalid_1's l2: 23927.8\n",
      "Fold 0 r2_score: 0.5420489188345088\n",
      "Training until validation scores don't improve for 50 rounds\n",
      "[200]\ttraining's l2: 22613.4\tvalid_1's l2: 23998.9\n",
      "[400]\ttraining's l2: 22201.3\tvalid_1's l2: 23957.2\n",
      "Early stopping, best iteration is:\n",
      "[403]\ttraining's l2: 22193.9\tvalid_1's l2: 23956.3\n",
      "Fold 1 r2_score: 0.5419438237867351\n",
      "Training until validation scores don't improve for 50 rounds\n",
      "[200]\ttraining's l2: 22653.1\tvalid_1's l2: 23764\n",
      "[400]\ttraining's l2: 22256.3\tvalid_1's l2: 23722.3\n",
      "Early stopping, best iteration is:\n",
      "[511]\ttraining's l2: 22069.4\tvalid_1's l2: 23712\n",
      "Fold 2 r2_score: 0.5420843848710557\n",
      "Training until validation scores don't improve for 50 rounds\n",
      "[200]\ttraining's l2: 22592.9\tvalid_1's l2: 24072.3\n",
      "[400]\ttraining's l2: 22180.5\tvalid_1's l2: 24022.8\n",
      "Early stopping, best iteration is:\n",
      "[451]\ttraining's l2: 22086\tvalid_1's l2: 24016.2\n",
      "Fold 3 r2_score: 0.5420237533019361\n",
      "Training until validation scores don't improve for 50 rounds\n",
      "[200]\ttraining's l2: 22665.9\tvalid_1's l2: 23705.6\n",
      "[400]\ttraining's l2: 22249.1\tvalid_1's l2: 23657.1\n",
      "Early stopping, best iteration is:\n",
      "[481]\ttraining's l2: 22098.6\tvalid_1's l2: 23651.6\n",
      "Fold 4 r2_score: 0.542567013132103\n"
     ]
    }
   ],
   "source": [
    "from sklearn.model_selection import KFold\n",
    "CV_res = []\n",
    "models = []\n",
    "kf = KFold(random_state=42, shuffle=True)\n",
    "\n",
    "for i, (trn_idx, tst_idx) in enumerate(kf.split(X)):\n",
    "    X_train, X_valid, y_train, y_valid = X.iloc[trn_idx], X.iloc[tst_idx], y.time_to_under.iloc[trn_idx], y.time_to_under.iloc[tst_idx]\n",
    "\n",
    "    lgtrain, lgval = lightgbm.Dataset(X_train, y_train), lightgbm.Dataset(X_valid, y_valid)\n",
    "    lgbmodel = lightgbm.train(params, lgtrain, 2000, valid_sets=[lgtrain, lgval], callbacks=[lightgbm.log_evaluation(200), lightgbm.early_stopping(50)])\n",
    "\n",
    "    r2 = r2_score(y_test.time_to_under, lgbmodel.predict(X_test))\n",
    "    CV_res.append(r2)\n",
    "    print(f'Fold {i} r2_score:', r2)\n",
    "    models.append(lgbmodel)"
   ]
  },
  {
   "cell_type": "code",
   "execution_count": 78,
   "id": "c2c22548-5e91-40b0-acbb-1916d4d139b4",
   "metadata": {},
   "outputs": [
    {
     "data": {
      "text/plain": [
       "0.542567013132103"
      ]
     },
     "execution_count": 78,
     "metadata": {},
     "output_type": "execute_result"
    }
   ],
   "source": [
    "lgbmodel = models[np.argmax(CV_res)]\n",
    "pred_time = lgbmodel.predict(X_test)\n",
    "r2_score(y_test.time_to_under, pred_time)"
   ]
  },
  {
   "cell_type": "code",
   "execution_count": 83,
   "id": "4fe3cb6c-e66f-4bf7-bccc-ecfd0f3fa1a7",
   "metadata": {},
   "outputs": [
    {
     "data": {
      "text/plain": [
       "<AxesSubplot: >"
      ]
     },
     "execution_count": 83,
     "metadata": {},
     "output_type": "execute_result"
    },
    {
     "data": {
      "image/png": "[encoded data removed]",
      "text/plain": [
       "<Figure size 500x500 with 1 Axes>"
      ]
     },
     "metadata": {},
     "output_type": "display_data"
    }
   ],
   "source": [
    "lgbm_feat = pd.DataFrame({'importance': lgbmodel.feature_importance()}, index=X.columns)\n",
    "lgbm_feat.nlargest(30, columns='importance').sort_values(by='importance').plot(kind='barh', figsize=(5, 5))"
   ]
  },
  {
   "cell_type": "markdown",
   "id": "49b84fe1-6ee9-47b2-abca-4a40b7e15158",
   "metadata": {
    "jp-MarkdownHeadingCollapsed": true,
    "tags": []
   },
   "source": [
    "## Model"
   ]
  },
  {
   "cell_type": "code",
   "execution_count": 42,
   "id": "a7bb20e8-d71e-4572-9ac4-3b8cf706d6de",
   "metadata": {},
   "outputs": [],
   "source": [
    "trn_idx, tst_idx = splits[6]\n",
    "X_train, X_valid, y_train, y_valid = X_train_all.iloc[trn_idx], X_train_all.iloc[tst_idx], y_train_all.time_to_under.iloc[trn_idx], y_train_all.time_to_under.iloc[tst_idx]"
   ]
  },
  {
   "cell_type": "code",
   "execution_count": 115,
   "id": "b4ef98f7-6419-410d-b50d-687b44041d9d",
   "metadata": {
    "tags": []
   },
   "outputs": [
    {
     "data": {
      "text/plain": [
       "0.37893538718229314"
      ]
     },
     "execution_count": 115,
     "metadata": {},
     "output_type": "execute_result"
    }
   ],
   "source": [
    "lgtrain, lgval = lightgbm.Dataset(X_train, y_train.time_to_under), lightgbm.Dataset(X_valid, y_valid.time_to_under)\n",
    "lgbmodel = lightgbm.train(params, lgtrain, 2000, valid_sets=[lgtrain, lgval], callbacks=[lightgbm.log_evaluation(200), lightgbm.early_stopping(50)])\n",
    "pred_time = lgbmodel.predict(X_test)\n",
    "r2_score(y_test.time_to_under, pred_time)"
   ]
  },
  {
   "cell_type": "markdown",
   "id": "3fa686f2-a0cd-4d63-903d-2f0df9b6401d",
   "metadata": {
    "tags": []
   },
   "source": [
    "# Classifier"
   ]
  },
  {
   "cell_type": "code",
   "execution_count": 39,
   "id": "73e65cd1-60a8-47f8-960b-0f3de98ffc67",
   "metadata": {},
   "outputs": [],
   "source": [
    "X_train, X_valid, y_train, y_valid = train_test_split(X, y, test_size=0.3, random_state=42, stratify=y.label)"
   ]
  },
  {
   "cell_type": "code",
   "execution_count": 40,
   "id": "644e5d94-2cbe-48c6-bc48-27f056796cde",
   "metadata": {
    "tags": []
   },
   "outputs": [
    {
     "name": "stdout",
     "output_type": "stream",
     "text": [
      "[LightGBM] [Warning] bagging_fraction is set=0.7, subsample=1.0 will be ignored. Current value: bagging_fraction=0.7\n",
      "[LightGBM] [Warning] bagging_freq is set=1, subsample_freq=0 will be ignored. Current value: bagging_freq=1\n",
      "Training until validation scores don't improve for 15 rounds\n",
      "[50]\tvalid_0's multi_logloss: 4.72723\n",
      "[100]\tvalid_0's multi_logloss: 4.68244\n",
      "[150]\tvalid_0's multi_logloss: 4.65104\n",
      "[200]\tvalid_0's multi_logloss: 4.62738\n",
      "[250]\tvalid_0's multi_logloss: 4.60941\n",
      "[300]\tvalid_0's multi_logloss: 4.59514\n",
      "[350]\tvalid_0's multi_logloss: 4.5831\n",
      "[400]\tvalid_0's multi_logloss: 4.57399\n",
      "[450]\tvalid_0's multi_logloss: 4.56634\n",
      "[500]\tvalid_0's multi_logloss: 4.55946\n",
      "[550]\tvalid_0's multi_logloss: 4.5545\n",
      "[600]\tvalid_0's multi_logloss: 4.54957\n",
      "[650]\tvalid_0's multi_logloss: 4.54586\n",
      "[700]\tvalid_0's multi_logloss: 4.54293\n",
      "[750]\tvalid_0's multi_logloss: 4.54101\n",
      "[800]\tvalid_0's multi_logloss: 4.53886\n",
      "[850]\tvalid_0's multi_logloss: 4.53765\n",
      "[900]\tvalid_0's multi_logloss: 4.53712\n",
      "Early stopping, best iteration is:\n",
      "[925]\tvalid_0's multi_logloss: 4.5363\n",
      "0.10830710493855732\n"
     ]
    }
   ],
   "source": [
    "params = {'objective': 'multiclassova',\n",
    "          'n_estimators': 10000,\n",
    "          'learning_rate': 0.1,\n",
    "          'num_leaves': 2000,\n",
    "          'max_depth': 3,\n",
    "          'bagging_fraction': 0.7,\n",
    "          'bagging_freq': 1,\n",
    "          'verbosity': -1}\n",
    "\n",
    "lgtrain, lgval = lightgbm.Dataset(X_train, y_train.label), lightgbm.Dataset(X_valid, y_valid.label)\n",
    "\n",
    "model = lightgbm.LGBMClassifier(num_class= 276, **params)\n",
    "model.fit(\n",
    "    X_train,\n",
    "    y_train.label,\n",
    "    eval_set=[(X_valid, y_valid.label)],\n",
    "    eval_metric=\"multiclass\",\n",
    "    callbacks=[lightgbm.early_stopping(15), lightgbm.log_evaluation(50)])  \n",
    "\n",
    "print(recall_score(y_test.label, model.predict(X_test), average='macro', zero_division=True))"
   ]
  },
  {
   "cell_type": "code",
   "execution_count": 84,
   "id": "1d33757c-0385-45ba-8ec8-959c525b456e",
   "metadata": {},
   "outputs": [
    {
     "data": {
      "text/plain": [
       "<AxesSubplot: >"
      ]
     },
     "execution_count": 84,
     "metadata": {},
     "output_type": "execute_result"
    },
    {
     "data": {
      "image/png": "[encoded data removed]",
      "text/plain": [
       "<Figure size 500x500 with 1 Axes>"
      ]
     },
     "metadata": {},
     "output_type": "display_data"
    }
   ],
   "source": [
    "lgbm_feat = pd.DataFrame({'importance': model.feature_importances_}, index=X_train.columns)\n",
    "lgbm_feat.nlargest(30, columns='importance').sort_values(by='importance').plot(kind='barh', figsize=(5, 5))"
   ]
  },
  {
   "cell_type": "code",
   "execution_count": 80,
   "id": "bb690321-cf6e-492d-baf1-2127c8f93caa",
   "metadata": {},
   "outputs": [],
   "source": [
    "time_to_under = lgbmodel.predict(df_test_final)\n",
    "label = model.predict(df_test_final)\n",
    "pred_df = pd.DataFrame({'id': pd.read_csv('sample_solution.csv').id, 'time_to_under': time_to_under, 'label': label})\n",
    "pred_df.to_csv('sub_12.csv', index=False)"
   ]
  },
  {
   "cell_type": "code",
   "execution_count": null,
   "id": "a1f63a8a-1ad2-4d31-bc06-8ae8a4876d17",
   "metadata": {},
   "outputs": [],
   "source": []
  }
 ],
 "metadata": {
  "kernelspec": {
   "display_name": "Python 3 (ipykernel)",
   "language": "python",
   "name": "python3"
  },
  "language_info": {
   "codemirror_mode": {
    "name": "ipython",
    "version": 3
   },
   "file_extension": ".py",
   "mimetype": "text/x-python",
   "name": "python",
   "nbconvert_exporter": "python",
   "pygments_lexer": "ipython3",
   "version": "3.9.12"
  }
 },
 "nbformat": 4,
 "nbformat_minor": 5
}
